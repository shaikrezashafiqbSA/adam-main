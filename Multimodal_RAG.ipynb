{
 "cells": [
  {
   "cell_type": "markdown",
   "metadata": {},
   "source": [
    "# RAG FRAMEWORK"
   ]
  },
  {
   "cell_type": "markdown",
   "metadata": {},
   "source": [
    "## a) Raw Input"
   ]
  },
  {
   "cell_type": "markdown",
   "metadata": {},
   "source": [
    "Key Notes:\n",
    "at 35:34\n",
    "text Splitting has to be done by relevance ->embeddings_search --> topN -> chain back to LLM --> talk to AI (+relevance)\n",
    "\n",
    "at 41:30\n",
    "Okay nice, he is explanining RAG nicely :\n",
    "my thoughts at that timestamp:\n",
    "TECH LEVELS:\n",
    "1) image + text  -> text \n",
    "    - No context: LLM only\n",
    "    - eg; LLM(\"Hey AI, give me information on X\")\n",
    "2) image + text -> text  \n",
    "    - Basic Contextualist: Context sample + LLM\n",
    "    - eg; LLM(\"Hey AI, give me information on X, given (Context sample)\")\n",
    "3) image + text -> text \n",
    "    - Big Contextualist: Context Population + Recommendation engine + LLM\n",
    "    - eg; RAG(\"Hey AI, give me information on X\", Librarian(topN, X, Context Population))\n",
    "\n",
    "at44:31, yes nice explanation of dimensionality reduction\n",
    "\n",
    "\n",
    "at 46:55: have to classify all avialable LLMs by\n",
    "matching capabilities, (based on Baijun's picture for example, CLAUDE has best reasoning --> does this imply better model embeddings?)\n",
    "COST (token, contextualising cost)\n",
    "\n",
    "\n",
    "at 51:38:\n",
    "macthing parameters (similiarity)\n",
    "cosine most popular, but could there be other techiques could have better edge at certain data?? (to investigate)\n",
    "\n",
    "\n",
    "\n",
    "at 53:50:\n",
    "VECTOR STORE\n",
    "db for embeddings/vectors\n",
    "to store all documents, auto gen emebddings, store auto\n",
    "!!! Vector stores are optimised to do similiarity really WELL\n",
    "sure anot, what optimisation, should we built everything inhouse to not be dependant. all this just funnels to get to pay for pinecone only. but yea gotta check cost-benefit here\n",
    "i've already make everything up till 56mins from scratch already, we already have.\n",
    "just maybe vector stores. must compare pricing and efficacy of available vector stores\n",
    "\n",
    "\n",
    "at 59:04:\n",
    "VECTOR STORE features\n",
    "vector_store.as_retriever\n",
    "connects directly to vector_store to get topN\n",
    "langchain is a wrapper for LLMs. but gemini already has this feature built in.\n",
    "scope: we aggregate all this LLM services. but remain portable and Microservices oriented as any one of them cld be bought over by corps (no new updates), etc\n",
    "\n",
    "61:09 onwards is dry pinecone stuff\n",
    "but yea could have features must replicate/generalise\n",
    "\n",
    "at 1:01:33\n",
    "LangChain codebase/structure highlights\n",
    "prompts themselves are CLASSES, which are modularly attached to RETRIEVER_CLASS\n",
    "whereas mine is functions only. Need persistence!!\n",
    "\n",
    "at1:04:20:\n",
    "langchain codebase highlights\n",
    "vector_stores are wrapped in highly functionable classes\n",
    "whereas mine is all objects\n",
    "\n",
    "\n",
    "at 1:06:46:\n",
    "Langchain UX experience and ease of \"chaining\":\n",
    "(context + prompt + model + parser ) + prompt\n",
    "so its an infinite way to arrange this.\n",
    "this is basically modelling conversations with a librarian, and then to self, then writing to paper, then retalk again to librarian, then write again.\n",
    "\n",
    "at1:09:30\n",
    "!!! We need to have an AI DATA MODEL map\n",
    "where we map out the AI conversations with respect to mapping to different specialist databases, human prompts, - its a conversation web modelling\n",
    "\n",
    "\n",
    "at 1:12:12\n",
    "wrapup:\n",
    "nice video on RAG, will have to use whisper for youtube\n",
    "FUTURE: can even consider other data inputs\n",
    " images (we have)\n",
    "sound + video frames\n",
    "UI: how? screenshot? video download? links?\n",
    "AI DATA MODEL:\n",
    "Process flow of conversation with Librarian and User-\n",
    "prompt engineering to meet expected outputs (QA)\n",
    "How to model conversations effectively (with constraints on COST/SPEED OF QUERY)\n",
    "optimisation? graph theory? or even use a Graph convolutional network on top of all the web to optimise conversation path and prompt engineering?\n",
    "this is athena i think and all those other company internal AI for boosting efficiency\n",
    "\n",
    "\n",
    "Post video: \n",
    "IDEA:\n",
    "lol if a RAG can do exactly my Youtube Keynotes taking here with analyses,\n",
    "analysts will be hyperturbocharged liao\n",
    "but yea depends on specialist database. so ultimately needs an SME of SME, or a specialist of the specialist database to curate this database. but yea can go even higher dimensions, reach all fields, to reach true GAI\n",
    "Which is what LLM+search engines (bing copilot) aspire to do? try to be the new google across all domains, with references,\n",
    "but not for just for information querying but for user experience, like Samsung AI\n",
    "which is making user interface more seamless with AI augmentations.\n",
    "\n",
    "so UI UX side, we should focus on what samsung is doing:\n",
    "these are the AI funnels:\n",
    "\n",
    "\"You\n",
    "galaxy ai features\n",
    "Copilot\n",
    "Certainly! Here are some of the features of Galaxy AI:\n",
    "\n",
    "Circle to Search: This feature allows you to draw a circle around any object in an image, and Galaxy AI will search for relevant information related to that object.\n",
    "Browsing Assist: Galaxy AI can assist with web browsing by summarizing articles, providing relevant links, and answering questions based on web content.\n",
    "Transcript Assist: When you upload an audio or video file, Galaxy AI can transcribe the spoken content and provide a text-based summary.\n",
    "Photo Assist: Upload an image, and Galaxy AI can describe its contents, identify objects, and provide context.\n",
    "Generative Edit: Galaxy AI can help generate creative content, such as poems, stories, code, and more.\n",
    "Call Assist/Live Translate: During phone calls, Galaxy AI can provide real-time translation or assist with conversation summaries.\n",
    "Chat Assist: Engage in text-based conversations with Galaxy AI, which can respond contextually and provide helpful information.\n",
    "Note Assist: Galaxy AI can summarize notes, generate outlines, and assist with organizing information.\"\n",
    "\n",
    "then formulate all of the thinking (and whatever lacking) behind my chats above into a RAG - then we have an AI business analyst LOL\n",
    "\n",
    "\n"
   ]
  },
  {
   "cell_type": "code",
   "execution_count": null,
   "metadata": {},
   "outputs": [],
   "source": [
    "keynotes_log = \"\"\"\n",
    "Key Notes:\n",
    "at 35:34\n",
    "text Splitting has to be done by relevance ->embeddings_search --> topN -> chain back to LLM --> talk to AI (+relevance)\n",
    "\n",
    "at 41:30\n",
    "Okay nice, he is explanining RAG nicely :\n",
    "my thoughts at that timestamp:\n",
    "TECH LEVELS:\n",
    "1) image + text  -> text \n",
    "    - No context: LLM only\n",
    "    - eg; LLM(\"Hey AI, give me information on X\")\n",
    "2) image + text -> text  \n",
    "    - Basic Contextualist: Context sample + LLM\n",
    "    - eg; LLM(\"Hey AI, give me information on X, given (Context sample)\")\n",
    "3) image + text -> text \n",
    "    - Big Contextualist: Context Population + Recommendation engine + LLM\n",
    "    - eg; RAG(\"Hey AI, give me information on X\", Librarian(topN, X, Context Population))\n",
    "\n",
    "at44:31, yes nice explanation of dimensionality reduction\n",
    "\n",
    "\n",
    "at 46:55: have to classify all avialable LLMs by\n",
    "matching capabilities, (based on Baijun's picture for example, CLAUDE has best reasoning --> does this imply better model embeddings?)\n",
    "COST (token, contextualising cost)\n",
    "\n",
    "\n",
    "at 51:38:\n",
    "macthing parameters (similiarity)\n",
    "cosine most popular, but could there be other techiques could have better edge at certain data?? (to investigate)\n",
    "\n",
    "\n",
    "\n",
    "at 53:50:\n",
    "VECTOR STORE\n",
    "db for embeddings/vectors\n",
    "to store all documents, auto gen emebddings, store auto\n",
    "!!! Vector stores are optimised to do similiarity really WELL\n",
    "sure anot, what optimisation, should we built everything inhouse to not be dependant. all this just funnels to get to pay for pinecone only. but yea gotta check cost-benefit here\n",
    "i've already make everything up till 56mins from scratch already, we already have.\n",
    "just maybe vector stores. must compare pricing and efficacy of available vector stores\n",
    "\n",
    "\n",
    "at 59:04:\n",
    "VECTOR STORE features\n",
    "vector_store.as_retriever\n",
    "connects directly to vector_store to get topN\n",
    "langchain is a wrapper for LLMs. but gemini already has this feature built in.\n",
    "scope: we aggregate all this LLM services. but remain portable and Microservices oriented as any one of them cld be bought over by corps (no new updates), etc\n",
    "\n",
    "61:09 onwards is dry pinecone stuff\n",
    "but yea could have features must replicate/generalise\n",
    "\n",
    "at 1:01:33\n",
    "LangChain codebase/structure highlights\n",
    "prompts themselves are CLASSES, which are modularly attached to RETRIEVER_CLASS\n",
    "whereas mine is functions only. Need persistence!!\n",
    "\n",
    "at1:04:20:\n",
    "langchain codebase highlights\n",
    "vector_stores are wrapped in highly functionable classes\n",
    "whereas mine is all objects\n",
    "\n",
    "\n",
    "at 1:06:46:\n",
    "Langchain UX experience and ease of \"chaining\":\n",
    "(context + prompt + model + parser ) + prompt\n",
    "so its an infinite way to arrange this.\n",
    "this is basically modelling conversations with a librarian, and then to self, then writing to paper, then retalk again to librarian, then write again.\n",
    "\n",
    "at1:09:30\n",
    "!!! We need to have an AI DATA MODEL map\n",
    "where we map out the AI conversations with respect to mapping to different specialist databases, human prompts, - its a conversation web modelling\n",
    "\n",
    "\n",
    "at 1:12:12\n",
    "wrapup:\n",
    "nice video on RAG, will have to use whisper for youtube\n",
    "FUTURE: can even consider other data inputs\n",
    " images (we have)\n",
    "sound + video frames\n",
    "UI: how? screenshot? video download? links?\n",
    "AI DATA MODEL:\n",
    "Process flow of conversation with Librarian and User-\n",
    "prompt engineering to meet expected outputs (QA)\n",
    "How to model conversations effectively (with constraints on COST/SPEED OF QUERY)\n",
    "optimisation? graph theory? or even use a Graph convolutional network on top of all the web to optimise conversation path and prompt engineering?\n",
    "this is athena i think and all those other company internal AI for boosting efficiency\n",
    "\n",
    "\n",
    "Post video: \n",
    "IDEA:\n",
    "lol if a RAG can do exactly my Youtube Keynotes taking here with analyses,\n",
    "analysts will be hyperturbocharged liao\n",
    "but yea depends on specialist database. so ultimately needs an SME of SME, or a specialist of the specialist database to curate this database. but yea can go even higher dimensions, reach all fields, to reach true GAI\n",
    "Which is what LLM+search engines (bing copilot) aspire to do? try to be the new google across all domains, with references,\n",
    "but not for just for information querying but for user experience, like Samsung AI\n",
    "which is making user interface more seamless with AI augmentations.\n",
    "\n",
    "so UI UX side, we should focus on what samsung is doing:\n",
    "these are the AI funnels:\n",
    "\n",
    "\"You\n",
    "galaxy ai features\n",
    "Copilot\n",
    "Certainly! Here are some of the features of Galaxy AI:\n",
    "\n",
    "Circle to Search: This feature allows you to draw a circle around any object in an image, and Galaxy AI will search for relevant information related to that object.\n",
    "Browsing Assist: Galaxy AI can assist with web browsing by summarizing articles, providing relevant links, and answering questions based on web content.\n",
    "Transcript Assist: When you upload an audio or video file, Galaxy AI can transcribe the spoken content and provide a text-based summary.\n",
    "Photo Assist: Upload an image, and Galaxy AI can describe its contents, identify objects, and provide context.\n",
    "Generative Edit: Galaxy AI can help generate creative content, such as poems, stories, code, and more.\n",
    "Call Assist/Live Translate: During phone calls, Galaxy AI can provide real-time translation or assist with conversation summaries.\n",
    "Chat Assist: Engage in text-based conversations with Galaxy AI, which can respond contextually and provide helpful information.\n",
    "Note Assist: Galaxy AI can summarize notes, generate outlines, and assist with organizing information.\"\n",
    "\n",
    "then formulate all of the thinking (and whatever lacking) behind my chats above into a RAG - then we have an AI business analyst LOL\n",
    "\n",
    "\n",
    "\n",
    "\"\"\""
   ]
  },
  {
   "cell_type": "markdown",
   "metadata": {},
   "source": [
    "## b) Librarian\n",
    "\n",
    "Librarian is a data-centric conversational model (RAG).\n",
    "\n",
    "It is able to embody archetypes (specialists) and is able to converse with the user to retrieve information from these databases.\n",
    "\n",
    "Such a data model centric design allows for the user to query information from a variety of databases, and the librarian is able to retrieve and cross-reference information from these databases."
   ]
  },
  {
   "cell_type": "code",
   "execution_count": 7,
   "metadata": {},
   "outputs": [],
   "source": [
    "# presentation \n",
    "# when client talking --> go through what they're facing \n",
    "# slides as guide/ anchor point for attention\n",
    "# eg;\n",
    "# highlight unstructuredness, \n",
    "# eg; go straight to the point, not loop around, blabber mode - drowning other voices with sme, - shift convo to the audience \n",
    "# listening + giving views at the same point \n",
    "# regurgation only but no effective todos, engagement- effective points\n",
    "# 1) presenting ideas across \n",
    "# 2) listening to painpoints of customer \n",
    "# 3) effective address painpoints (to induce hope) \n",
    "# 4) where do we go next "
   ]
  },
  {
   "cell_type": "code",
   "execution_count": 1,
   "metadata": {},
   "outputs": [
    {
     "name": "stdout",
     "output_type": "stream",
     "text": [
      "loading specialist: TRAVELLER ...\n",
      "TRAVELLER loaded\n"
     ]
    }
   ],
   "source": [
    "from RAG.librarian import Librarian \n",
    "\"\"\"\n",
    "these are my inputs (showcase data set)\n",
    "- layman words\n",
    "- effective comms - avoid gravitation wells\n",
    "\"\"\"\n",
    "\n",
    "librarian = Librarian(librarian_LLM_model = \"GEMINI\")\n",
    "\n",
    "# SELECT SPECIALIST DATABASE\n",
    "librarian.select_specialist(specialist = \"traveller\", specialist_LLM_model = \"GEMINI\")\n",
    "\n",
    "# Ask librarian to get acquinted with the specialist database\n",
    "librarian.Traveller.load_data_model(reembed = False,\n",
    "                                    embed_id = 0,\n",
    "                                    data_model_keys = {\"TEST - CLIENT\":\"CLIENT ID\",\n",
    "                                                        \"TEST - CLIENT REQUEST\":\"CLIENT ID\",\n",
    "                                                        \"TEST - FLIGHTS\":\"FLIGHT ID\",\n",
    "                                                        \"TEST - ACCOMODATIONS\":\"ACCOMODATION ID\",\n",
    "                                                        \"TEST - SERVICES\":\"SERVICE ID\",\n",
    "                                                        }\n",
    "                                    )\n",
    "\n",
    "# Data model has to be properly formulated (with their nuanced buckets) to fit their needs (quality of services, eg)\n",
    "# Traveller specialist class is customised specifically for the travel industry\n",
    "# - with skills that are relevant to the travel industry"
   ]
  },
  {
   "cell_type": "markdown",
   "metadata": {},
   "source": [
    "### i) Librarian's Traveller CAPABILITIES"
   ]
  },
  {
   "cell_type": "markdown",
   "metadata": {},
   "source": [
    "### a) _Retrieval_ : client information (I)"
   ]
  },
  {
   "cell_type": "code",
   "execution_count": 8,
   "metadata": {},
   "outputs": [
    {
     "name": "stdout",
     "output_type": "stream",
     "text": [
      "ITEM: 33, PREPARED BY: ANIES, ISSUED DATE: 2024-02-27 00:00:00, INVOICE: 2177, CLIENT ID: C139, CLIENT: DATO SRI SHAIK AQMAL BIN SHAIK ALAUDDIN, DESCRIPTION: AIR TICKET CGK-KUL 27-Feb-2024, AMOUNT (MYR): 2150.0, CN: nan, PAYMENT (RM): nan, PAYMENT DATE: nan, BAL PAYMENT: nan, COS - AIR TIX: 2150.0, COS - HOTEL: nan, COS - TRANSPORT: nan, COS-GROUND PACKAGE: nan, COS - TOUR GUIDE: nan, COS - INSURANCE: nan, COS - MISC: nan, PARTICULARS: nan, REMARKS: nan\n",
      "ITEM: 35, PREPARED BY: ANIES, ISSUED DATE: 29-Feb-24, INVOICE: 2179, CLIENT ID: C139, CLIENT: DATO SRI SHAIK AQMAL BIN SHAIK ALAUDDIN, DESCRIPTION: AIR TICKET + ACCOMMODATION JKT FROM 29 FEB - 01 MAR 2024, AMOUNT (MYR): 6040.0, CN: nan, PAYMENT (RM): nan, PAYMENT DATE: nan, BAL PAYMENT: nan, COS - AIR TIX: nan, COS - HOTEL: nan, COS - TRANSPORT: nan, COS-GROUND PACKAGE: nan, COS - TOUR GUIDE: nan, COS - INSURANCE: nan, COS - MISC: nan, PARTICULARS: nan, REMARKS: nan\n",
      "ITEM: 29, PREPARED BY: ANIES, ISSUED DATE: 08 Feb 24, INVOICE: 2173, CLIENT ID: C139, CLIENT: DATO SRI SHAIK AQMAL BIN SHAIK ALAUDDIN, DESCRIPTION: TRAVEL INSURANCE & ACOMMODATION 11 - 18 FEB 2024, AMOUNT (MYR): 22000.0, CN: nan, PAYMENT (RM): nan, PAYMENT DATE: nan, BAL PAYMENT: nan, COS - AIR TIX: nan, COS - HOTEL: 21740.0, COS - TRANSPORT: nan, COS-GROUND PACKAGE: nan, COS - TOUR GUIDE: nan, COS - INSURANCE: 218.0, COS - MISC: nan, PARTICULARS: nan, REMARKS: nan\n"
     ]
    }
   ],
   "source": [
    "prompt = \"Shaik\"\n",
    "client_recommendations = librarian.Traveller.I_recommend_client(content = prompt,\n",
    "                                                        topN=3,\n",
    "                                                        # task_type = \"retrieval_document\",\n",
    "                                                        task_type = \"retrieval_query\",\n",
    "                                                        ) \n",
    "print(client_recommendations)"
   ]
  },
  {
   "cell_type": "code",
   "execution_count": 9,
   "metadata": {},
   "outputs": [
    {
     "name": "stdout",
     "output_type": "stream",
     "text": [
      "CLIENT ID: C139, DATE: 2014-03-24 00:00:00, LOCATION: kuala lumpur, PROMPT: dunno, just plan something exciting and cultural with calm vibe around an important AI event of mine on december 24. So i need to be mentally sharp before, and not shagged, DURATION: 1 month, DATE_PERIOD: 2024-12-12 00:00:00, BUDGET: 40000, PAX: 2, CLIENT QUIRKS: doesnt like humid weather and will always prefer somewhere cold, SPECIAL REQUESTS: Needs 2 bodyguards at all times\n"
     ]
    }
   ],
   "source": [
    "prompt = \"Aqmal\"\n",
    "client_recommendations = librarian.Traveller.I_recommend_client_request(content = prompt,\n",
    "                                                        topN=1,\n",
    "                                                        # task_type = \"retrieval_document\",\n",
    "                                                        task_type = \"retrieval_query\",\n",
    "                                                        ) \n",
    "print(client_recommendations)"
   ]
  },
  {
   "cell_type": "markdown",
   "metadata": {},
   "source": [
    "### b) _Recommend_ : travel logistics (II)"
   ]
  },
  {
   "cell_type": "code",
   "execution_count": 7,
   "metadata": {},
   "outputs": [
    {
     "name": "stdout",
     "output_type": "stream",
     "text": [
      "('flights:\\n'\n",
      " 'FLIGHT ID: 21, Name: Singapore Airlines, Type: Flight, From: Michigan, '\n",
      " 'Singapore, To: Kuala Lumpur, Price: from $1200, Description: 15 hours '\n",
      " 'Nonstop\\n'\n",
      " 'FLIGHT ID: 21, Name: Singapore Airlines, Type: Flight, From: Kuala Lumpur, '\n",
      " 'To: Michigan, Singapore, Price: from $1200, Description: 15 hours Nonstop\\n'\n",
      " 'FLIGHT ID: 22, Name: Malaysia Airlines, Type: Flight, From: Michigan, '\n",
      " 'Singapore, To: Singapore, Price: from $1300, Description: 15 hours Nonstop')\n",
      "('accomodations:\\n'\n",
      " 'ACCOMODATION ID: 7, Name: Raffles hotel, Type: Hotel, Location: Singapore, '\n",
      " 'Price/night: 200, Description: very close to town and access to all cultural '\n",
      " 'stuff\\n'\n",
      " 'ACCOMODATION ID: 9, Name: Mandarin Oriental, Type: Hotel, Location: '\n",
      " 'Singapore, Price/night: 2000, Description: 5 star hotel services, with 5 '\n",
      " 'star breakfast and dinner but no oyster \\n'\n",
      " 'ACCOMODATION ID: 8, Name: Marina Bay sands, Type: Hotel, Location: '\n",
      " 'Singapore, Price/night: 341, Description: Nice views of the gardens by the '\n",
      " 'bay and the bay')\n",
      "('services:\\n'\n",
      " 'SERVICE ID: 17, Activity: Singapore 5 star only LUXURY TOUR FOR VIP 4 days, '\n",
      " 'Location: Singapore, Price: From $2000 / 1 pax, Category: Tour, high class '\n",
      " 'food\\n'\n",
      " 'SERVICE ID: 15, Activity: Singapore Merlion and Botanic gardens tour 2 days, '\n",
      " 'Location: Singapore, Price: From $600 / 1 pax, Category: Tour, photography\\n'\n",
      " 'SERVICE ID: 16, Activity: Singapore China town and little india hawker and '\n",
      " 'locale delights tour 2 days, Location: Singapore, Price: From $500 / 4 pax, '\n",
      " 'Category: Tour, foodie, ')\n"
     ]
    }
   ],
   "source": [
    "# Ask librarian a question regarding one of the specialist databases WITH a chatbot wrapper\n",
    "# input by agent \n",
    "# FUTURE: email thread, entire convo packages - given relevant buckets, eg; dest, duration , budget\n",
    "\n",
    "# TODO LATER: need relevance score to cut out irrelevant data\n",
    "travel_proposal = \"i need to go Singapore\"\n",
    "convo_package = librarian.Traveller.II_recommend_travel_logistics(travel_proposal = travel_proposal,\n",
    "                                                                   topN=3,\n",
    "                                                                   chatbot = False, \n",
    "                                                                   chatbot_model_name = \"gemini-pro\")\n",
    "\n",
    "# Highlight: these outputs are from YOUR preferred buckets (your own inventory) but using gemini/openai\n"
   ]
  },
  {
   "cell_type": "markdown",
   "metadata": {},
   "source": [
    "### b) _*Generate*_ : travel proposal (itinerary) from customer request"
   ]
  },
  {
   "cell_type": "code",
   "execution_count": 5,
   "metadata": {},
   "outputs": [
    {
     "name": "stdout",
     "output_type": "stream",
     "text": [
      "(' The image is of a street in Singapore, with a mosque in the background. The '\n",
      " 'street is lit up by colorful lights. The image was taken at night.\\n'\n",
      " '\\n'\n",
      " 'The location is: Haji Lane, Singapore\\n'\n",
      " '\\n'\n",
      " 'Description: This street in Singapore is a vibrant and colorful place to '\n",
      " 'visit, especially at night. The Haji Lane is a narrow street that is lined '\n",
      " 'with shops, restaurants, and bars. It is a popular place to visit for both '\n",
      " 'locals and tourists. The street is also known for its street art, with many '\n",
      " 'of the buildings being covered in murals.\\n'\n",
      " '\\n'\n",
      " 'You could visit the following places in Singapore:\\n'\n",
      " '\\n'\n",
      " 'Marina Bay Sands: This is an iconic hotel and casino in Singapore. It is '\n",
      " 'known for its unique architecture and its rooftop infinity pool.\\n'\n",
      " 'Gardens by the Bay: This is a beautiful park in Singapore that is home to '\n",
      " 'many different types of plants and flowers.\\n'\n",
      " 'The Singapore Zoo: This zoo is home to a wide variety of animals, including '\n",
      " 'pandas, elephants, and lions.\\n'\n",
      " 'Sentosa Island: This island is a popular tourist destination in Singapore. '\n",
      " 'It is home to many different beaches, resorts, and attractions.')\n"
     ]
    }
   ],
   "source": [
    "# Ask librarian a question regarding one of the specialist databases\n",
    "travel_proposal_request = \"i need to go Singapore for a week, like in this image.\"\n",
    "convo_package = librarian.Traveller.II_generate_travel_proposal(input_prompt = travel_proposal_request,\n",
    "                                                                model_name = \"gemini-pro\",\n",
    "                                                                image_path = \"./database/travel/sometiktokss.jpg\")\n"
   ]
  },
  {
   "cell_type": "code",
   "execution_count": 6,
   "metadata": {},
   "outputs": [
    {
     "name": "stdout",
     "output_type": "stream",
     "text": [
      "('flights:\\n'\n",
      " 'FLIGHT ID: 21, Name: Singapore Airlines, Type: Flight, From: Michigan, '\n",
      " 'Singapore, To: Kuala Lumpur, Price: from $1200, Description: 15 hours '\n",
      " 'Nonstop\\n'\n",
      " 'FLIGHT ID: 21, Name: Singapore Airlines, Type: Flight, From: Kuala Lumpur, '\n",
      " 'To: Michigan, Singapore, Price: from $1200, Description: 15 hours Nonstop\\n'\n",
      " 'FLIGHT ID: 10, Name: AirAsia Berhad , Type: Flight, From: Singapore, To: '\n",
      " 'Kuala Lumpur, Price: from $70 , Description: 1h 15m Nonstop')\n",
      "('accomodations:\\n'\n",
      " 'ACCOMODATION ID: 8, Name: Marina Bay sands, Type: Hotel, Location: '\n",
      " 'Singapore, Price/night: 341, Description: Nice views of the gardens by the '\n",
      " 'bay and the bay\\n'\n",
      " 'ACCOMODATION ID: 7, Name: Raffles hotel, Type: Hotel, Location: Singapore, '\n",
      " 'Price/night: 200, Description: very close to town and access to all cultural '\n",
      " 'stuff\\n'\n",
      " 'ACCOMODATION ID: 10, Name: Mana mana suites, Type: Hotel, Location: Kuala '\n",
      " 'Lumpur, Malaysia, Price/night: 70, Description: Long lifts but excellent '\n",
      " 'city view with excellent room facilities')\n",
      "('services:\\n'\n",
      " 'SERVICE ID: 18, Activity: Singapore arab street and malay indian cultural '\n",
      " 'and kampong tours 1 day , Location: Singapore, Price: From $400/2 pax, '\n",
      " 'Category: Tour, local food\\n'\n",
      " 'SERVICE ID: 17, Activity: Singapore 5 star only LUXURY TOUR FOR VIP 4 days, '\n",
      " 'Location: Singapore, Price: From $2000 / 1 pax, Category: Tour, high class '\n",
      " 'food\\n'\n",
      " 'SERVICE ID: 16, Activity: Singapore China town and little india hawker and '\n",
      " 'locale delights tour 2 days, Location: Singapore, Price: From $500 / 4 pax, '\n",
      " 'Category: Tour, foodie, ')\n",
      "('**Summary:**\\n'\n",
      " '\\n'\n",
      " 'Embark on an unforgettable journey that immerses you in the vibrant tapestry '\n",
      " 'of Singapore and Kuala Lumpur. From the bustling streets of Haji Lane to the '\n",
      " 'iconic landmarks of Marina Bay Sands, Singapore offers a captivating blend '\n",
      " 'of cultures, culinary delights, and architectural wonders. Venture beyond '\n",
      " 'the city limits to explore the lush greenery of Gardens by the Bay and '\n",
      " 'encounter exotic wildlife at the Singapore Zoo. Immerse yourself in the rich '\n",
      " \"heritage and traditions of Singapore's Arab Street and Little India, \"\n",
      " 'savoring authentic flavors and discovering hidden gems. Your journey '\n",
      " 'culminates in the vibrant metropolis of Kuala Lumpur, where you will '\n",
      " 'experience the towering Petronas Towers and the bustling streets of '\n",
      " 'Chinatown.\\n'\n",
      " '\\n'\n",
      " '**Journey Highlights:**\\n'\n",
      " '\\n'\n",
      " '* Explore the vibrant streets and colorful street art of Haji Lane, '\n",
      " \"Singapore's hippest neighborhood.\\n\"\n",
      " '* Ascend to the rooftop infinity pool of Marina Bay Sands for breathtaking '\n",
      " 'views of the cityscape.\\n'\n",
      " '* Wander through the enchanting Gardens by the Bay, marveling at its diverse '\n",
      " 'flora and iconic Supertrees.\\n'\n",
      " '* Get up close to fascinating creatures at the Singapore Zoo, home to a wide '\n",
      " 'variety of animals.\\n'\n",
      " \"* Embark on a cultural adventure in Singapore's Arab Street and Little \"\n",
      " 'India, discovering hidden gems and savoring local delicacies.\\n'\n",
      " '* Stand in awe of the towering Petronas Towers in Kuala Lumpur, a testament '\n",
      " 'to modern architecture.\\n'\n",
      " '* Explore the vibrant streets of Chinatown in Kuala Lumpur, filled with '\n",
      " 'bustling markets and authentic cuisine.\\n'\n",
      " '\\n'\n",
      " '**Your journey takes you to: Singapore - Kuala Lumpur**\\n'\n",
      " '\\n'\n",
      " '**Itinerary & Map:**\\n'\n",
      " '\\n'\n",
      " '**Day 1:**\\n'\n",
      " '\\n'\n",
      " '* Arrive in Singapore and check into the luxurious Marina Bay Sands (3 '\n",
      " 'nights).\\n'\n",
      " '* Immerse yourself in the vibrant atmosphere of Haji Lane, exploring its '\n",
      " 'trendy shops, cafes, and street art.\\n'\n",
      " '* Dine at a rooftop restaurant in Clarke Quay, offering panoramic city '\n",
      " 'views.\\n'\n",
      " '\\n'\n",
      " '**Day 2:**\\n'\n",
      " '\\n'\n",
      " '* Visit the iconic Marina Bay Sands and ascend to the rooftop infinity '\n",
      " 'pool.\\n'\n",
      " '* Explore the lush Gardens by the Bay, marveling at its diverse plant life.\\n'\n",
      " '* Enjoy a traditional Singaporean dinner at Lau Pa Sat, a bustling food '\n",
      " 'market.\\n'\n",
      " '\\n'\n",
      " '**Day 3:**\\n'\n",
      " '\\n'\n",
      " '* Discover the fascinating creatures at the Singapore Zoo.\\n'\n",
      " \"* Embark on a cultural adventure in Singapore's Arab Street and Little \"\n",
      " 'India, savoring authentic flavors and discovering hidden gems.\\n'\n",
      " '* Experience the vibrant nightlife of Clarke Quay, with its lively bars and '\n",
      " 'clubs.\\n'\n",
      " '\\n'\n",
      " '**Day 4:**\\n'\n",
      " '\\n'\n",
      " '* Fly to Kuala Lumpur and check into the elegant Raffles Hotel (2 nights).\\n'\n",
      " '* Ascend the iconic Petronas Towers for breathtaking panoramic views.\\n'\n",
      " '* Explore the bustling streets of Chinatown, discovering its vibrant markets '\n",
      " 'and authentic cuisine.\\n'\n",
      " '\\n'\n",
      " '**Day 5:**\\n'\n",
      " '\\n'\n",
      " '* Visit the Batu Caves, a sacred Hindu shrine set within limestone caves.\\n'\n",
      " '* Return to Singapore and depart with cherished memories.\\n'\n",
      " '\\n'\n",
      " '**Highlights and Inclusions:**\\n'\n",
      " '\\n'\n",
      " '* Round-trip flights from Michigan to Singapore and Kuala Lumpur with '\n",
      " 'Singapore Airlines.\\n'\n",
      " '* Accommodation for 5 nights: Marina Bay Sands in Singapore (3 nights), '\n",
      " 'Raffles Hotel in Kuala Lumpur (2 nights).\\n'\n",
      " '* Daily breakfast at the hotels.\\n'\n",
      " '* Guided tours of Marina Bay Sands, Gardens by the Bay, Singapore Zoo, and '\n",
      " 'the Batu Caves.\\n'\n",
      " '* Singapore Arab Street and Little India cultural tour.\\n'\n",
      " '* Airport transfers.\\n'\n",
      " '* Complimentary Wi-Fi throughout the hotels.\\n'\n",
      " '\\n'\n",
      " '**Dates and Pricing:**\\n'\n",
      " '\\n'\n",
      " '* Departure dates: Available year-round.\\n'\n",
      " '* Number of travelers: Customizable.\\n'\n",
      " '* Total cost: From $3,000 per person (based on double occupancy).\\n'\n",
      " '* Payment options: Credit card, debit card, PayPal.\\n'\n",
      " '\\n'\n",
      " '**Book your unforgettable journey today and experience the vibrant tapestry '\n",
      " 'of Singapore and Kuala Lumpur!**')\n"
     ]
    }
   ],
   "source": [
    "# Ask librarian a question regarding one of the specialist databases\n",
    "travel_proposal_request = str(convo_package)\n",
    "convo_package = librarian.Traveller.III_generate_travel_package(travel_proposal = travel_proposal_request,\n",
    "                                                                 topN = 3, \n",
    "                                                                 model_name = \"gemini-pro\")\n",
    "\n",
    "# TODO: disintegrate services into 3 buckets so that fit into a day or half  day, etc\n",
    "# eg; tour: 3h cultural tour at arab str, 4h foodie tour, 6h hiking tour, 3 hr shopping tour \n",
    "# - HOW TO CLASSIFY THESE BUCKETS? best way? gotta see existing travel packages (and how they are classified)\n",
    "# - have to check with SME on data model - edit, modify buckets based on SmartWorld specialised needs\n",
    "# prompt engineering: include a free-and easy day if theres a gap in the schedule or Reserve 1 day for RR, etc\n",
    "\n",
    "# Customizable itinerary output - this is just a base template for them to build on \n",
    "# TODO: regenerate and recustomize BASED on revised prompt \"i dont want any shopping trips, on this\""
   ]
  },
  {
   "cell_type": "code",
   "execution_count": null,
   "metadata": {},
   "outputs": [],
   "source": []
  },
  {
   "cell_type": "code",
   "execution_count": null,
   "metadata": {},
   "outputs": [],
   "source": []
  },
  {
   "cell_type": "code",
   "execution_count": null,
   "metadata": {},
   "outputs": [],
   "source": []
  },
  {
   "cell_type": "code",
   "execution_count": null,
   "metadata": {},
   "outputs": [],
   "source": [
    "# # SELECT SPECIALIST DATABASE\n",
    "# librarian.select_specialist(specialist = \"muslim\", specialist_LLM_model = \"GEMINI\")\n",
    "# librarian.Muslim.load_data_model(reembed = False,\n",
    "#                                     data_model_keys = {\"Quran\":\"SURAH ID\",\n",
    "#                                                         \"Hadith\":\"HADITH ID\",\n",
    "#                                                         \"Tafsir\":\"TAFSIR ID\",\n",
    "#                                                         }\n",
    "#                                     )"
   ]
  },
  {
   "cell_type": "code",
   "execution_count": null,
   "metadata": {},
   "outputs": [],
   "source": []
  },
  {
   "cell_type": "code",
   "execution_count": null,
   "metadata": {},
   "outputs": [],
   "source": []
  },
  {
   "cell_type": "code",
   "execution_count": null,
   "metadata": {},
   "outputs": [],
   "source": []
  },
  {
   "cell_type": "markdown",
   "metadata": {},
   "source": [
    "# KnowledgeBase - Financial Data Time Series\n",
    "LLM image analysis --> analyse_travel_destination --> Concierge\n"
   ]
  },
  {
   "cell_type": "markdown",
   "metadata": {},
   "source": [
    "## a) PROMPT input"
   ]
  },
  {
   "cell_type": "code",
   "execution_count": null,
   "metadata": {},
   "outputs": [],
   "source": [
    "date = \"2024-03-04\"\n",
    "prompt_0 = f\"\"\"\n",
    "What is the current price of Bitcoin for today ({date})? What is the latest financial news, outlook on the crypto market, \n",
    "and also contrast with the traditional stock market and money market.\n",
    "\"\"\"\n",
    "from settings import GEMINI_API_KEY\n",
    "from llm_handler.GHandler import GHandler\n",
    "\n",
    "g_handler = GHandler(GEMINI_API_KEY)\n",
    "\n",
    "response = g_handler.prompt(prompt_0)\n",
    "print(response.text)"
   ]
  },
  {
   "cell_type": "markdown",
   "metadata": {},
   "source": [
    "## b) Image input: Multimodal LLM image analysis"
   ]
  },
  {
   "cell_type": "code",
   "execution_count": null,
   "metadata": {},
   "outputs": [],
   "source": [
    "# image_path = \"./database/quant/btcusdt_1d_IST.png\"\n",
    "image_path = \"./database/quant/buddy_chinese.png\"\n",
    "\n",
    "prompt_1 = f\"\"\"\n",
    "            you are an expert AI generated image analyst- in a AI ethics and misuse department.\n",
    "            You are given images and asked to analyse them if it is AI generated or not.\n",
    "            And give your reasonings.\n",
    "            \"\"\"\n",
    "prompt_2 = f\"\"\"If the image is AI generated, provide a confidence score from 0 to 100,\n",
    "            and recreate the prompt that generated the image. \n",
    "            If the image is not AI generated, then craft a single paragraph, descriptive prompt that could result in a similar image.\n",
    "\"\"\"\n",
    "# prompt_2v = f\"\"\"If the image is AI generated, provide a confidence score from 0 to 100,\n",
    "# \"The expert AI generated image analyst response to the prior prompt ({prompt_1}) is: \n",
    "# <trader's RESPONSE>\".\n",
    "# \"My own thoughts on his response is: \n",
    "# <vibe_checker's RESPONSE>\".\n",
    "# \"Confidence: <YOUR_SCORE>\".\n",
    "# \"\"\"\n",
    "from IPython.display import Image, display\n",
    "display(Image(filename=image_path))\n",
    "from pprint import pprint\n",
    "from settings import GEMINI_API_KEY\n",
    "from llm_handler.GHandler import GHandler\n",
    "\n",
    "g_handler = GHandler(GEMINI_API_KEY)\n",
    "\n",
    "g_response = g_handler.prompt_image(model_name = \"gemini-pro-vision\",\n",
    "                                  image_path = image_path,\n",
    "                                  prompt_1 = prompt_1,\n",
    "                                  prompt_2 = prompt_2,\n",
    "                                  generation_config = {\n",
    "                                                        \"temperature\": 0.9,\n",
    "                                                        \"top_p\": 0.95,\n",
    "                                                        \"top_k\": 40,\n",
    "                                                        \"max_output_tokens\": 1024,\n",
    "                                                        },\n",
    "                                block_threshold = \"BLOCK_NONE\"\n",
    "                                        )\n",
    "# print this in a nicer format and not stretched beyond the screen\n",
    "pprint(g_response.text)"
   ]
  },
  {
   "cell_type": "code",
   "execution_count": null,
   "metadata": {},
   "outputs": [],
   "source": [
    "\n",
    "Generate an image with the following description: \n",
    " \"The photograph is of a gray tabby cat being held by a person. The cat's eyes \"\n",
    " 'are partially closed and it looks relaxed. The photograph is taken from a '\n",
    " 'close-up angle and the background is out of focus.\\n'\n",
    " '\\n'\n",
    " 'To take a similar photograph, you would need a camera and a cat. You would '\n",
    " 'need to get close to the cat and take the photograph when it is relaxed. You '\n",
    " 'could also use a telephoto lens to get a closer shot.')"
   ]
  },
  {
   "cell_type": "markdown",
   "metadata": {},
   "source": [
    "COMMENTS"
   ]
  },
  {
   "cell_type": "markdown",
   "metadata": {},
   "source": [
    "The code snippet you provided attempts to utilize the Gemini-Pro-Vision model for image analysis in the context of a financial time series chart. However, there are several limitations and concerns to consider:\n",
    "\n",
    "**Limitations:**\n",
    "\n",
    "1. **Model capabilities:** While Gemini-Pro-Vision is trained on a massive dataset of text and code, it isn't specifically designed for analyzing financial charts. Its ability to interpret the image and provide the specific descriptions, diagnoses, predictions, and prescriptions you require might be limited.\n",
    "\n",
    "2. **Data complexity:** Financial charts contain complex information encoded in lines, colors, and patterns. Capturing this information and translating it into accurate financial insights requires specialized training data and models.\n",
    "\n",
    "**Concerns:**\n",
    "\n",
    "1. **Over-reliance on LLM:** The code fully relies on the LLM's interpretation of the image, leaving no room for human expertise or domain knowledge. This can lead to inaccurate or misleading financial insights.\n",
    "\n",
    "2. **Ethical considerations:** Using an LLM for financial predictions without proper validation and transparency can be risky. It's essential to be clear about the limitations of the system and emphasize that its output should not be solely relied upon for investment decisions.\n",
    "\n",
    "3. **Potential misuse:** This approach might encourage users to interpret the LLM's output as financial advice, even though it might lack the necessary accuracy and context.\n",
    "\n",
    "**Alternative Approach:**\n",
    "\n",
    "Instead of relying solely on an LLM, consider a more **hybrid approach**:\n",
    "\n",
    "1. **Human Analysis:** Involve a human financial analyst to analyze the chart and provide their expertise. This can help ensure the accuracy and reliability of the initial assessment.\n",
    "\n",
    "2. **LLM Support:** Use the LLM to **complement the human analysis** by:\n",
    "    * Summarizing relevant financial news or historical data related to the instrument.\n",
    "    * Providing alternative perspectives or highlighting potential risks.\n",
    "    * Generating different creative writing formats (e.g., a news article about the market situation) based on the analyst's insights.\n",
    "\n",
    "This approach leverages the strengths of both humans and LLMs, potentially leading to more robust and reliable insights while mitigating ethical concerns.\n",
    "\n",
    "It's crucial to remember that LLMs are still under development, and their capabilities in specialized domains like finance are evolving. While they can be valuable tools, exercising caution and combining them with human expertise remains essential, especially when dealing with financial decision-making."
   ]
  },
  {
   "cell_type": "markdown",
   "metadata": {},
   "source": [
    "## c) Inventory Recommendation Engine\n",
    "\n",
    "\n",
    "i) Embed database\n",
    "\n",
    "ii) embed user_travel_LLM_response above\n",
    "\n",
    "iii) AI recommendation engine\n"
   ]
  },
  {
   "cell_type": "markdown",
   "metadata": {},
   "source": [
    "### i) Embed -> Recommend Inventory"
   ]
  },
  {
   "cell_type": "code",
   "execution_count": null,
   "metadata": {},
   "outputs": [],
   "source": [
    "db_path = \"./database/travel/Data Model for Travel.xlsx\"\n",
    "sheet_name = \"Day Trip\"\n",
    "\n",
    "from settings import GEMINI_API_KEY\n",
    "from llm_handler import GHandler\n",
    "import importlib\n",
    "importlib.reload(GHandler)\n",
    "from llm_handler.GHandler import GHandler\n",
    "\n",
    "import pandas as pd\n",
    "\n",
    "day_trips_df = pd.read_excel(db_path, sheet_name=sheet_name)\n",
    "# need to embed the day_trips_df\n",
    "day_trips_df[\"Text\"] = day_trips_df.apply(lambda row: f\"Activity: {row['Activity']}, Location: {row['Location']}, Category: {row['Category']} Price: {row['Price']}\", axis=1)\n",
    "\n",
    "\n",
    "g_handler = GHandler(GEMINI_API_KEY)\n",
    "df_embedded = g_handler.embed_df(day_trips_df,\n",
    "                                 title = \"Activity\", \n",
    "                                 text = \"Text\",\n",
    "                                 model=\"models/embedding-001\")\n",
    "daytrip_recommendation = g_handler.find_best_passage(g_response.text, df_embedded)\n",
    "print(daytrip_recommendation)"
   ]
  },
  {
   "cell_type": "markdown",
   "metadata": {},
   "source": [
    "## d) Cascade Recommendation Engine\n",
    "\n",
    "Given the user's primary match, the recommendation engine will look up secondary and tertiary recommendations\n"
   ]
  },
  {
   "cell_type": "code",
   "execution_count": null,
   "metadata": {},
   "outputs": [],
   "source": [
    "# Get embeddings for the hotels and flights\n",
    "flights_hotels_df = pd.read_excel(r'./database/travel/Data Model for Travel.xlsx', sheet_name=\"Hotels\")\n",
    "# drop where type == Nan\n",
    "flights_hotels_df = flights_hotels_df.dropna(subset=[\"Type\"])\n",
    "flights_hotels_df[\"Text\"] = flights_hotels_df.apply(lambda row: f\"Name: {row['Name']}, Type: {row['Type']}, Location: {row['Location']}, Price: {row['Price']}, Description: {row['Description']}\", axis=1)\n",
    "\n",
    "\n",
    "g_handler = GHandler(GEMINI_API_KEY)\n",
    "flights_hotels_df = g_handler.embed_df(flights_hotels_df,\n",
    "                                 title = \"Name\", \n",
    "                                 text = \"Text\",\n",
    "                                 model=\"models/embedding-001\")\n"
   ]
  },
  {
   "cell_type": "code",
   "execution_count": null,
   "metadata": {},
   "outputs": [],
   "source": [
    "Convo_2 = f\"\"\"I have an inventory for a {daytrip_recommendation}. I can recommend you a more luxurious based on the location of the activity.\"\"\"\n",
    "hotel_recommendation = g_handler.find_best_passage(Convo_2, flights_hotels_df)\n",
    "print(hotel_recommendation)"
   ]
  },
  {
   "cell_type": "code",
   "execution_count": null,
   "metadata": {},
   "outputs": [],
   "source": [
    "Convo_3 = f\"\"\"I have an inventory for a {daytrip_recommendation}. I can recommend you the longest flight based on the location of the activity.\"\"\"\n",
    "flight_recommendation = g_handler.find_best_passage(Convo_3, flights_hotels_df)\n",
    "print(flight_recommendation)"
   ]
  },
  {
   "cell_type": "code",
   "execution_count": null,
   "metadata": {},
   "outputs": [],
   "source": [
    "flights_hotels_df"
   ]
  },
  {
   "cell_type": "code",
   "execution_count": null,
   "metadata": {},
   "outputs": [],
   "source": [
    "# Wrapper that inserts\n",
    "# daytrip + hotel + flight into a 3 day 2 night itenerary\n",
    "# so first day fill with casual eating and sightseeing, then 2nd day is the daytrip focus, and 3rd day is the return flight\n",
    "# LLM has to be smart enough to infer duration of daytrip (hiking mt rinjani is 2 days, so it should be 2 days 1 night)\n",
    "\n",
    "# Eg: himalayas\n",
    "# has to account for weather, seasons, and other factors that might affect the trip duration. Or postpone trip under more optimal factors\n",
    "# TESTCASE: NO inventory for customer request\n",
    "# TESTCASE: transport types (ferries, etc)\n",
    "\n",
    "# look at all factor buckets that involves inventory \n",
    "# Buckets to quantify the inventory\n",
    "# main factor is affiliation, services (driver, villa-cook, guide, translator), then location, then price, then type, then rating, then availability, then duration, then weather, then season, then other factors)\n",
    "# if not affiliated then shouldnt be recommended \n",
    "\n",
    "\n"
   ]
  },
  {
   "cell_type": "code",
   "execution_count": null,
   "metadata": {},
   "outputs": [],
   "source": [
    "# top n recommendations (pro consumer vs pro business)\n",
    "\n",
    "# need to see if they have existing monetisation strategy for their travel packages\n",
    "# recommmendations should be tailored to their monetisation strategy\n",
    "# (eg: if they have a partnership with a hotel, then recommend that hotel)\n",
    "\n",
    "\n",
    "# main objective: recommendation engine \n",
    "# warning: no buckets for existing monetisation strategy"
   ]
  },
  {
   "cell_type": "code",
   "execution_count": null,
   "metadata": {},
   "outputs": [],
   "source": [
    "daytrip_recommendation"
   ]
  },
  {
   "cell_type": "code",
   "execution_count": null,
   "metadata": {},
   "outputs": [],
   "source": [
    "flight_recommendation"
   ]
  },
  {
   "cell_type": "code",
   "execution_count": null,
   "metadata": {},
   "outputs": [],
   "source": [
    "flight_recommendation"
   ]
  },
  {
   "cell_type": "code",
   "execution_count": null,
   "metadata": {},
   "outputs": [],
   "source": [
    "UX_prompt = f\"\"\"\n",
    "Generate a travel package for the given trip_recommendation:\n",
    "{daytrip_recommendation}\n",
    "\n",
    "This trip_recommendation comes with the following hotel recommendation:\n",
    "{hotel_recommendation}\n",
    "\n",
    "This trip_recommendation comes with the following flight recommendation:\n",
    "{flight_recommendation}\n",
    "\n",
    "The package should include the following sections:\n",
    "\n",
    "\"Summary\"\n",
    "introductory and summary of the trip in one paragraph.\n",
    "The summary should describe in vivid detail, the main attractions, activities, and experiences that the travelers can enjoy in the trip_recommendation. \n",
    "\n",
    "\"Journey Highlights\"\n",
    "A list of the main features and most exciting aspects of the package.\n",
    "the highlights must end off with a bold line: \"Your journey takes you to: x - y - z\"\n",
    "\n",
    "\"Itinerary & Map\" \n",
    "This section is an itenerary list that shows the day-by-day plan of the trip, that is also accompanied by a map.\n",
    "\n",
    "The itinerary should include the name, location, and description of each place or activity that the travelers will visit or do each day. \n",
    "The itinerary should also indicate the approximate duration and transportation mode for each item.\n",
    "\n",
    "A highlights and inclusions section that lists the main features and benefits of the package. \n",
    "The section should mention what is included in the price, such as flights, accommodation, meals, guides, entrance fees, etc. \n",
    "The section should also mention any special offers or discounts that are available for the package.\n",
    "A dates and pricing section that shows the available dates and prices for the package. \n",
    "The section should indicate the departure and return dates, the number of travelers, the total cost, and the payment options for the package. \n",
    "The section should also provide a link or contact information for booking or inquiring about the package.\n",
    "\n",
    "All information derived here should be based on the recommendations from the previous steps and MUST not be fabricated.\n",
    "\n",
    "\"\"\""
   ]
  },
  {
   "cell_type": "code",
   "execution_count": null,
   "metadata": {},
   "outputs": [],
   "source": [
    "from settings import GEMINI_API_KEY\n",
    "from llm_handler.GHandler import GHandler\n",
    "\n",
    "g_handler = GHandler(GEMINI_API_KEY)\n",
    "\n",
    "response_UX = g_handler.prompt(UX_prompt)\n",
    "print(response_UX.text)"
   ]
  },
  {
   "cell_type": "code",
   "execution_count": null,
   "metadata": {},
   "outputs": [],
   "source": [
    "# Format mimic from image of travel website package page"
   ]
  },
  {
   "cell_type": "code",
   "execution_count": null,
   "metadata": {},
   "outputs": [],
   "source": [
    "image_path = \"./database/travel/lux_example.jpg\"\n",
    "prompt_1 = f\"\"\"Reproduce the format of this travel package given a different destination: \n",
    "Generate a travel package for the given trip_recommendation:\n",
    "{daytrip_recommendation}\n",
    "\n",
    "This trip_recommendation comes with the following hotel recommendation:\n",
    "{hotel_recommendation}\n",
    "\n",
    "This trip_recommendation comes with the following flight recommendation:\n",
    "{flight_recommendation}\n",
    "\n",
    "\"\"\"\n",
    "\n",
    "from IPython.display import Image, display\n",
    "# display(Image(filename=image_path))\n",
    "\n",
    "from settings import GEMINI_API_KEY\n",
    "from llm_handler.GHandler import GHandler\n",
    "\n",
    "g_handler = GHandler(GEMINI_API_KEY)\n",
    "\n",
    "g_response = g_handler.prompt_image(model_name = \"gemini-pro-vision\",\n",
    "                                  image_path = image_path,\n",
    "                                  prompt_1 = prompt_1,\n",
    "                                  prompt_2 = None)\n",
    "print(g_response.text)"
   ]
  },
  {
   "cell_type": "markdown",
   "metadata": {},
   "source": [
    "## e) Full Stack"
   ]
  },
  {
   "cell_type": "code",
   "execution_count": null,
   "metadata": {},
   "outputs": [],
   "source": [
    "image_path = \"./database/travel/me-at-kelingking-beach-nusa-penida-bali-inonesia-laugh-traveleat.jpg\"\n",
    "prompt_1 = \"Tell me the location where this photo is taken from?\"\n",
    "prompt_2 = \"Based on the response, recommend a full day trip travel itinerary\"\n",
    "from IPython.display import Image, display\n",
    "print(\"(a) Image Analyses\")\n",
    "display(Image(filename=image_path))\n",
    "\n",
    "\n",
    "import pandas as pd\n",
    "from settings import GEMINI_API_KEY\n",
    "from llm_handler.GHandler import GHandler\n",
    "\n",
    "g_handler = GHandler(GEMINI_API_KEY)\n",
    "\n",
    "g_response = g_handler.prompt_image(model_name = \"gemini-pro-vision\",\n",
    "                                  image_path = image_path,\n",
    "                                  prompt_1 = prompt_1,\n",
    "                                  prompt_2 = prompt_2)\n",
    "# print(g_response.text)\n",
    "print(\"(b) Image Analyses Complete\")\n",
    "\n",
    "db_path = \"./database/travel/Data Model for Travel.xlsx\"\n",
    "sheet_name = \"Day Trip\"\n",
    "\n",
    "def get_day_trip_recommendation(g_response, db_path, sheet_name):\n",
    "    day_trips_df = pd.read_excel(db_path, sheet_name=sheet_name)\n",
    "    # need to embed the day_trips_df\n",
    "    day_trips_df[\"Text\"] = day_trips_df.apply(lambda row: f\"Activity: {row['Activity']}, Location: {row['Location']}, Category: {row['Category']} Price: {row['Price']}\", axis=1)\n",
    "\n",
    "\n",
    "    g_handler = GHandler(GEMINI_API_KEY)\n",
    "    df_embedded = g_handler.embed_df(day_trips_df,\n",
    "                                    title = \"Activity\", \n",
    "                                    text = \"Text\",\n",
    "                                    model=\"models/embedding-001\")\n",
    "    daytrip_recommendation = g_handler.find_best_passage(g_response.text, df_embedded)\n",
    "    return daytrip_recommendation"
   ]
  },
  {
   "cell_type": "code",
   "execution_count": null,
   "metadata": {},
   "outputs": [],
   "source": [
    "db_path = \"./database/travel/Data Model for Travel.xlsx\"\n",
    "sheet_name = \"Day Trip\"\n",
    "\n",
    "from settings import GEMINI_API_KEY\n",
    "from llm_handler import GHandler\n",
    "import importlib\n",
    "importlib.reload(GHandler)\n",
    "from llm_handler.GHandler import GHandler\n",
    "\n",
    "import pandas as pd\n",
    "\n",
    "day_trips_df = pd.read_excel(db_path, sheet_name=sheet_name)\n",
    "# need to embed the day_trips_df\n",
    "day_trips_df[\"Text\"] = day_trips_df.apply(lambda row: f\"Activity: {row['Activity']}, Location: {row['Location']}, Category: {row['Category']} Price: {row['Price']}\", axis=1)\n",
    "\n",
    "\n",
    "g_handler = GHandler(GEMINI_API_KEY)\n",
    "df_embedded = g_handler.embed_df(day_trips_df,\n",
    "                                 title = \"Activity\", \n",
    "                                 text = \"Text\",\n",
    "                                 model=\"models/embedding-001\")\n",
    "daytrip_recommendation = g_handler.find_best_passage(g_response.text, df_embedded)\n",
    "print(daytrip_recommendation)"
   ]
  },
  {
   "cell_type": "markdown",
   "metadata": {},
   "source": [
    "# Talk to your Fitra AI \n",
    "\n",
    "So imagine you are walking back home, from work, on your phone, \n",
    "Then you see a website with some inspiring duas, and you want to analyse and \n",
    "understand the meaning of the duas, and you want to know the meaning of the duas,\n",
    "and find contextually similiar duas or information. \n",
    "eg;\n",
    "- \"Rabbana atina fid-dunya hasanatan wa fil 'akhirati hasanatan waqina 'adhaban-nar\"\n",
    "- \"Our Lord, give us in this world [that which is] good and in the Hereafter [that which is] good and protect us from the punishment of the Fire.\"\n",
    "- then you want to find similar duas, or background information about this dua like its origins, hadith chains, and all that \n",
    "\n",
    "\n",
    "\n"
   ]
  },
  {
   "cell_type": "markdown",
   "metadata": {},
   "source": [
    "TECH LEVELS:\n",
    "1) image + text  -> text \n",
    "    - No context: LLM only\n",
    "    - eg; LLM(\"Hey AI, give me information on X\")\n",
    "2) image + text -> text  \n",
    "    - Basic Contextualist: Context sample + LLM\n",
    "    - eg; LLM(\"Hey AI, give me information on X, given (Context sample)\")\n",
    "3) image + text -> text \n",
    "    - Big Contextualist: Context Population + Recommendation engine + LLM\n",
    "    - eg; RAG(\"Hey AI, give me information on X\", Librarian(topN, X, Context Population))"
   ]
  },
  {
   "cell_type": "code",
   "execution_count": null,
   "metadata": {},
   "outputs": [],
   "source": [
    "from specialists.muslim import Muslim \n",
    "muslim = Muslim()\n",
    "muslim.load_data_model(reembed = True)"
   ]
  },
  {
   "cell_type": "code",
   "execution_count": null,
   "metadata": {},
   "outputs": [],
   "source": [
    "text = muslim.tables[\"Sunan al Tirmidhi\"].iloc[1,1]\n",
    "text"
   ]
  },
  {
   "cell_type": "code",
   "execution_count": null,
   "metadata": {},
   "outputs": [],
   "source": [
    "test= muslim.model_specialist.embed_text(title= \"hadith\", text= text, model=\"models/embedding-001\")"
   ]
  },
  {
   "cell_type": "code",
   "execution_count": null,
   "metadata": {},
   "outputs": [],
   "source": [
    "import pandas as pd\n",
    "\n",
    "from llm_handler.GHandler import GHandler\n",
    "from settings import GEMINI_API_KEY\n",
    "\n",
    "g_handler = GHandler(GEMINI_API_KEY)\n",
    "\n",
    "db_path = \"./database/muslim/Sunan al Tirmidhi.csv\"\n",
    "df = pd.read_csv(db_path)\n",
    "df.iloc[0]\n",
    "\n",
    "#  translate df.iloc[0] from arabic to english\n",
    "response = g_handler.prompt(f\"Please translate the following from arabic to english: It is from a hadith: {df.iloc[0,0]}\")"
   ]
  },
  {
   "cell_type": "code",
   "execution_count": null,
   "metadata": {},
   "outputs": [],
   "source": [
    "from pprint import pprint\n",
    "pprint(response.text)"
   ]
  },
  {
   "cell_type": "code",
   "execution_count": null,
   "metadata": {},
   "outputs": [],
   "source": [
    "df"
   ]
  },
  {
   "cell_type": "markdown",
   "metadata": {},
   "source": [
    "## Tech tier I: Basic Contextualist"
   ]
  },
  {
   "cell_type": "code",
   "execution_count": null,
   "metadata": {},
   "outputs": [],
   "source": [
    "# image_path = \"./database/quant/btcusdt_1d_IST.png\"\n",
    "image_path = \"./database/Fitra AI/dua_1.png\"\n",
    "\n",
    "prompt_1 = f\"\"\"\n",
    "            You are a curator and specialist of all knowledge regarding Islam- \n",
    "            in a AI ethics and misuse department.\n",
    "            You are given images and asked to analyse them for their Islamic content and also level of AI influence.\n",
    "            So look firstly, for Islamic data authenticity then after that, if there are any AI generated content,\n",
    "            especially in meanings or translations, give your reasonings.\n",
    "            \"\"\"\n",
    "prompt_2 = f\"\"\"\n",
    "            If the image is not AI generated and is authentic Islamic content, \n",
    "            then suggest a list of relevant topics to the Islamic content in this image,\n",
    "            such as its origins, hadith sources, Quran sources, and other relevant Islamic topics.\n",
    "\"\"\"\n",
    "# prompt_2v = f\"\"\"If the image is AI generated, provide a confidence score from 0 to 100,\n",
    "# \"The expert AI generated image analyst response to the prior prompt ({prompt_1}) is: \n",
    "# <trader's RESPONSE>\".\n",
    "# \"My own thoughts on his response is: \n",
    "# <vibe_checker's RESPONSE>\".\n",
    "# \"Confidence: <YOUR_SCORE>\".\n",
    "# \"\"\"\n",
    "from IPython.display import Image, display\n",
    "display(Image(filename=image_path))\n",
    "from pprint import pprint\n",
    "from settings import GEMINI_API_KEY\n",
    "from llm_handler.GHandler import GHandler\n",
    "\n",
    "g_handler = GHandler(GEMINI_API_KEY,\n",
    "                     generation_config = {\"temperature\": 0.9,\n",
    "                                      \"top_p\": 0.95,\n",
    "                                      \"top_k\": 40,\n",
    "                                      \"max_output_tokens\": 1024,\n",
    "                                      },\n",
    "                     block_threshold=\"BLOCK_NONE\",\n",
    "                    )\n",
    "\n",
    "g_response = g_handler.prompt_image(model_name = \"gemini-pro-vision\",\n",
    "                                  image_path = image_path,\n",
    "                                  prompt_1 = prompt_1,\n",
    "                                  prompt_2 = prompt_2,)\n",
    "# print this in a nicer format and not stretched beyond the screen\n",
    "pprint(g_response.text)"
   ]
  },
  {
   "cell_type": "markdown",
   "metadata": {},
   "source": [
    "## Tech tier II: Small Contextualist\n",
    "\n",
    "\n",
    "i) Embed database\n",
    "\n",
    "ii) embed user_travel_LLM_response above\n",
    "\n",
    "iii) AI recommendation engine\n"
   ]
  },
  {
   "cell_type": "markdown",
   "metadata": {},
   "source": [
    "### i) Embed -> Recommend Inventory"
   ]
  },
  {
   "cell_type": "code",
   "execution_count": null,
   "metadata": {},
   "outputs": [],
   "source": [
    "db_path = \"./database/travel/SWTT_ Master Database.xlsx\"\n",
    "sheet_name = \"CUSTOMERS\"\n",
    "\n",
    "from settings import GEMINI_API_KEY\n",
    "from llm_handler import GHandler\n",
    "import importlib\n",
    "importlib.reload(GHandler)\n",
    "from llm_handler.GHandler import GHandler\n",
    "\n",
    "import pandas as pd\n",
    "tabs = pd.ExcelFile(db_path).sheet_names \n",
    "tabs = [sheet for sheet in tabs if \"TEST\" in sheet]\n",
    "print(tabs)\n",
    "# df = pd.read_excel(db_path, sheet_name=sheet_name)\n",
    "# # need to embed the day_trips_df\n",
    "# day_trips_df[\"Text\"] = day_trips_df.apply(lambda row: f\"Activity: {row['Activity']}, Location: {row['Location']}, Category: {row['Category']} Price: {row['Price']}\", axis=1)\n",
    "\n",
    "\n",
    "# g_handler = GHandler(GEMINI_API_KEY)\n",
    "# df_embedded = g_handler.embed_df(day_trips_df,\n",
    "#                                  title = \"Activity\", \n",
    "#                                  text = \"Text\",\n",
    "#                                  model=\"models/embedding-001\")\n",
    "# daytrip_recommendation = g_handler.find_best_passage(g_response.text, df_embedded)\n",
    "# print(daytrip_recommendation)"
   ]
  },
  {
   "cell_type": "markdown",
   "metadata": {},
   "source": [
    "## d) Cascade Recommendation Engine\n",
    "\n",
    "Given the user's primary match, the recommendation engine will look up secondary and tertiary recommendations\n"
   ]
  },
  {
   "cell_type": "code",
   "execution_count": null,
   "metadata": {},
   "outputs": [],
   "source": [
    "# Get embeddings for the hotels and flights\n",
    "flights_hotels_df = pd.read_excel(r'./database/travel/Data Model for Travel.xlsx', sheet_name=\"Hotels\")\n",
    "# drop where type == Nan\n",
    "flights_hotels_df = flights_hotels_df.dropna(subset=[\"Type\"])\n",
    "flights_hotels_df[\"Text\"] = flights_hotels_df.apply(lambda row: f\"Name: {row['Name']}, Type: {row['Type']}, Location: {row['Location']}, Price: {row['Price']}, Description: {row['Description']}\", axis=1)\n",
    "\n",
    "\n",
    "g_handler = GHandler(GEMINI_API_KEY)\n",
    "flights_hotels_df = g_handler.embed_df(flights_hotels_df,\n",
    "                                 title = \"Name\", \n",
    "                                 text = \"Text\",\n",
    "                                 model=\"models/embedding-001\")\n"
   ]
  },
  {
   "cell_type": "code",
   "execution_count": null,
   "metadata": {},
   "outputs": [],
   "source": [
    "Convo_2 = f\"\"\"I have an inventory for a {daytrip_recommendation}. I can recommend you a more luxurious based on the location of the activity.\"\"\"\n",
    "hotel_recommendation = g_handler.find_best_passage(Convo_2, flights_hotels_df)\n",
    "print(hotel_recommendation)"
   ]
  },
  {
   "cell_type": "code",
   "execution_count": null,
   "metadata": {},
   "outputs": [],
   "source": [
    "Convo_3 = f\"\"\"I have an inventory for a {daytrip_recommendation}. I can recommend you the longest flight based on the location of the activity.\"\"\"\n",
    "flight_recommendation = g_handler.find_best_passage(Convo_3, flights_hotels_df)\n",
    "print(flight_recommendation)"
   ]
  },
  {
   "cell_type": "code",
   "execution_count": null,
   "metadata": {},
   "outputs": [],
   "source": [
    "flights_hotels_df"
   ]
  },
  {
   "cell_type": "code",
   "execution_count": null,
   "metadata": {},
   "outputs": [],
   "source": [
    "# Wrapper that inserts\n",
    "# daytrip + hotel + flight into a 3 day 2 night itenerary\n",
    "# so first day fill with casual eating and sightseeing, then 2nd day is the daytrip focus, and 3rd day is the return flight\n",
    "# LLM has to be smart enough to infer duration of daytrip (hiking mt rinjani is 2 days, so it should be 2 days 1 night)\n",
    "\n",
    "# Eg: himalayas\n",
    "# has to account for weather, seasons, and other factors that might affect the trip duration. Or postpone trip under more optimal factors\n",
    "# TESTCASE: NO inventory for customer request\n",
    "# TESTCASE: transport types (ferries, etc)\n",
    "\n",
    "# look at all factor buckets that involves inventory \n",
    "# Buckets to quantify the inventory\n",
    "# main factor is affiliation, services (driver, villa-cook, guide, translator), then location, then price, then type, then rating, then availability, then duration, then weather, then season, then other factors)\n",
    "# if not affiliated then shouldnt be recommended \n",
    "\n",
    "\n"
   ]
  },
  {
   "cell_type": "code",
   "execution_count": null,
   "metadata": {},
   "outputs": [],
   "source": [
    "# top n recommendations (pro consumer vs pro business)\n",
    "\n",
    "# need to see if they have existing monetisation strategy for their travel packages\n",
    "# recommmendations should be tailored to their monetisation strategy\n",
    "# (eg: if they have a partnership with a hotel, then recommend that hotel)\n",
    "\n",
    "\n",
    "# main objective: recommendation engine \n",
    "# warning: no buckets for existing monetisation strategy"
   ]
  },
  {
   "cell_type": "code",
   "execution_count": null,
   "metadata": {},
   "outputs": [],
   "source": [
    "daytrip_recommendation"
   ]
  },
  {
   "cell_type": "code",
   "execution_count": null,
   "metadata": {},
   "outputs": [],
   "source": [
    "flight_recommendation"
   ]
  },
  {
   "cell_type": "code",
   "execution_count": null,
   "metadata": {},
   "outputs": [],
   "source": [
    "flight_recommendation"
   ]
  },
  {
   "cell_type": "code",
   "execution_count": null,
   "metadata": {},
   "outputs": [],
   "source": [
    "UX_prompt = f\"\"\"\n",
    "Generate a travel package for the given trip_recommendation:\n",
    "{daytrip_recommendation}\n",
    "\n",
    "This trip_recommendation comes with the following hotel recommendation:\n",
    "{hotel_recommendation}\n",
    "\n",
    "This trip_recommendation comes with the following flight recommendation:\n",
    "{flight_recommendation}\n",
    "\n",
    "The package should include the following sections:\n",
    "\n",
    "\"Summary\"\n",
    "introductory and summary of the trip in one paragraph.\n",
    "The summary should describe in vivid detail, the main attractions, activities, and experiences that the travelers can enjoy in the trip_recommendation. \n",
    "\n",
    "\"Journey Highlights\"\n",
    "A list of the main features and most exciting aspects of the package.\n",
    "the highlights must end off with a bold line: \"Your journey takes you to: x - y - z\"\n",
    "\n",
    "\"Itinerary & Map\" \n",
    "This section is an itenerary list that shows the day-by-day plan of the trip, that is also accompanied by a map.\n",
    "\n",
    "The itinerary should include the name, location, and description of each place or activity that the travelers will visit or do each day. \n",
    "The itinerary should also indicate the approximate duration and transportation mode for each item.\n",
    "\n",
    "A highlights and inclusions section that lists the main features and benefits of the package. \n",
    "The section should mention what is included in the price, such as flights, accommodation, meals, guides, entrance fees, etc. \n",
    "The section should also mention any special offers or discounts that are available for the package.\n",
    "A dates and pricing section that shows the available dates and prices for the package. \n",
    "The section should indicate the departure and return dates, the number of travelers, the total cost, and the payment options for the package. \n",
    "The section should also provide a link or contact information for booking or inquiring about the package.\n",
    "\n",
    "All information derived here should be based on the recommendations from the previous steps and MUST not be fabricated.\n",
    "\n",
    "\"\"\""
   ]
  },
  {
   "cell_type": "code",
   "execution_count": null,
   "metadata": {},
   "outputs": [],
   "source": [
    "from settings import GEMINI_API_KEY\n",
    "from llm_handler.GHandler import GHandler\n",
    "\n",
    "g_handler = GHandler(GEMINI_API_KEY)\n",
    "\n",
    "response_UX = g_handler.prompt(UX_prompt)\n",
    "print(response_UX.text)"
   ]
  },
  {
   "cell_type": "code",
   "execution_count": null,
   "metadata": {},
   "outputs": [],
   "source": [
    "# Format mimic from image of travel website package page"
   ]
  },
  {
   "cell_type": "code",
   "execution_count": null,
   "metadata": {},
   "outputs": [],
   "source": [
    "image_path = \"./database/travel/lux_example.jpg\"\n",
    "prompt_1 = f\"\"\"Reproduce the format of this travel package given a different destination: \n",
    "Generate a travel package for the given trip_recommendation:\n",
    "{daytrip_recommendation}\n",
    "\n",
    "This trip_recommendation comes with the following hotel recommendation:\n",
    "{hotel_recommendation}\n",
    "\n",
    "This trip_recommendation comes with the following flight recommendation:\n",
    "{flight_recommendation}\n",
    "\n",
    "\"\"\"\n",
    "\n",
    "from IPython.display import Image, display\n",
    "# display(Image(filename=image_path))\n",
    "\n",
    "from settings import GEMINI_API_KEY\n",
    "from llm_handler.GHandler import GHandler\n",
    "\n",
    "g_handler = GHandler(GEMINI_API_KEY)\n",
    "\n",
    "g_response = g_handler.prompt_image(model_name = \"gemini-pro-vision\",\n",
    "                                  image_path = image_path,\n",
    "                                  prompt_1 = prompt_1,\n",
    "                                  prompt_2 = None)\n",
    "print(g_response.text)"
   ]
  },
  {
   "cell_type": "markdown",
   "metadata": {},
   "source": [
    "## e) Full Stack"
   ]
  },
  {
   "cell_type": "code",
   "execution_count": null,
   "metadata": {},
   "outputs": [],
   "source": []
  },
  {
   "cell_type": "markdown",
   "metadata": {},
   "source": [
    "# Field populator"
   ]
  },
  {
   "cell_type": "markdown",
   "metadata": {},
   "source": []
  },
  {
   "cell_type": "markdown",
   "metadata": {},
   "source": []
  },
  {
   "cell_type": "code",
   "execution_count": null,
   "metadata": {},
   "outputs": [],
   "source": [
    "columns = \"\"\"\n",
    "\n",
    "\t\t\t\t\t\t\t\t\t\t\t\t\t\t\t\t\t\t\t\t\t\t\t\t\t\t\t\t\t\t\t\t\t\t\t\t\t\t\t\t\t\t\t\t\t\t\t\t\t\t\t\t\t\t\t\t\t\t\t\t\t\t\t\t\t\t\t\t\t\t\t\t\t\tACCOMMODATION ARRANGMENTS\t\t\t\t\t\t\t\t\t\t\t\t\t\t\t\t\tNUMBER OF PAX\t\t\t\t\t\t\t\tTRAVEL INSURANCE\t\t\t\t\t\t\t\t\tVISA ARRANGEMENTS\t\t\t\t\t\t\t\t\tBESPOKE VIP SERVICES\t\t\t\t\t\t\tENTIRE TRIP GRAND TOTAL (MYR)\n",
    "ITEM\tCLIENTELE\t\t\t\t\t\t\t\t\t\t\t\t\tGENERAL BIODATA\t\t\t\t\t\t\t\t\tCLIENT DIRECT BOOKING\t\t\t\t\t\t\tPIC/BOOKER\t\t\t\t\t\t\t\t\t\t\t\t\t\t\tTRIP\t\t\t\t\t\t\tPURCHASE TYPE\t\t\t\t\t\t\tFLIGHT ARRANGEMENTS\t\t\t\t\t\t\t\t\t\t\t\t\t\t\tB2B PLATFORM\tDESTINATION\tGROUP\tPROPERTY TYPE\tHOTEL BRAND\tSTAR RATING\tTRAVEL DATE\tPERIOD OF STAY (NUMBER OF NIGHTS)\tROOM CATEGORY\tROOM CONFIGURATION (BED-TYPE)\tROOM UNITS\tROOM OCCUPANCY (NUMBER OF GUESTS)\tROOM RATE WITH BREAKFAST/NIGHT (MYR)\t\tROOM-ONLY RATE /NIGHT (MYR)\t\tGRAND TOTAL\t\"ADULT \n",
    "(12 YEARS OLD AND ABOVE)\"\t\"CHILD\n",
    "(INFANT - 11 YEARS OLD)\"\t\tDOMESTIC HELPER\t\tSTAFF\tBODYGUARD\tPOLICE ESCORT\tINSURANCE COMPANY\tINSURANCE TYPE\tINSURANCE PLAN\tTRIP PLAN\tPOLICY NUMBER\tPERIOD OF COVERAGE\tCOST\tSELLING\tCOUNTRIES WE COVER\tVISA TYPE\tVISA CATEGORY\tAPPLICANT NAME\tREFERENCE NUMBER\tPERIOD OF STAY\tINSURED BY\tCOST PER PERSON\tMARK UP RATE (MYR)\tSELLING RATE PER PERSON\tMEET & GREET\tAIRPORT DUTY\tBUGGY ASSISTANCE\tLUGGAGE WRAP SERVICE\tSPECIAL CARE ASSISTANCE\tVIP LOUNGE\tSMART WORLD ALLOWANCE TO STAFF\t\n",
    "\tCLIENT ID\tORGANIZATION\tSEGMENT\tREMARK\tPREFIX\tTITLE\tFULL NAME\tDESIGNATION | OCCUPATION\tRELATIONSHIP\tCLIENT ID\tCOMPANY\tBUSINESS ADDRESS\tREGION\tBIRTH DATE\tPASSPORT NUMBER\tIDENTIFICATION NUMBER\tMARITAL STATUS\tGENDER\tAGE\tRACE\tNATIONALITY \tRELIGION\tCLIENT TYPE\t\"CLIENT SINCE\n",
    "(YEAR)\"\tEMAIL ADDRESS\tCOUNTRY CODE\tPHONE\tCOUNTRY CODE\tMOBILE\tPREFIX\tTITLE\tBOOKER NAME\tDESIGNATION/OCCUPATION\tRELATIONSHIP\tCLIENT ID\tDEPARTMENT\tCOMPANY\tBUSINESS ADDRESS\tREGION\tEMAIL ADDRESS\tCOUNTRY CODE\tPHONE\tCOUNTRY CODE\tMOBILE\tCLIENT SPENDING POWER\tPURPOSE OF TRAVEL\tTRAVEL TYPE\tOCCASION\tFAMILY COMPOSITION\t\"DATE OF TRAVEL\n",
    "(DD.MM.YY - DD.MM.YY)\"\tLENGTH OF TRAVEL (DAY)\tFLIGHT\tACCOMMODATION\tTRANSPORTATION\tVIP SERVICE\tVISA\tTRAVEL INSURANCE\tTOUR PACKAGE\tTRIP NAME\tAIRLINE NAME\tCATEGORY\tDESTINATION\tDOMESTIC FLIGHT\tINTERNATIONAL FLIGHT\tONE WAY TRIP\tRETURN TICKET\tDEPARTURE DATE\tDEPARTURE TIME\tARRIVAL DATE\tARRIVAL TIME\tCOST\tMARK UP RATE\tSELLING\t\t\t\t\t\t\t\t\t\t\t\t\tCOST ROOM RATE PER NIGHT WITH BREAKFAST (MYR)\tSELLING ROOM RATE PER NIGHT WITH BREAKFAST (MYR)\tCOST ROOM-ONLY RATE PER NIGHT (MYR)\tSELLING ROOM -ONLY RATE PER NIGHT (MYR)\t\t\t\t\tNATIONALITY\tPAX\t\t\t\t\t\t\t\t\t\t\t\tCLUSTER | DESTINATION\t\t\t\t\t\t\t\t\t\t\t\t\t\t\t\t\t\n",
    "\"\"\""
   ]
  },
  {
   "cell_type": "code",
   "execution_count": null,
   "metadata": {},
   "outputs": [],
   "source": [
    "image_path = \"./database/travel/travel_itinerary.jpg\"\n",
    "prompt_1 = \"From this picture of a travel itinerary\"\n",
    "prompt_2 = \"Based on the response, recommend a full day trip travel itinerary\"\n",
    "from IPython.display import Image, display\n",
    "display(Image(filename=image_path))\n",
    "\n",
    "from settings import GEMINI_API_KEY\n",
    "from llm_handler.GHandler import GHandler\n",
    "\n",
    "g_handler = GHandler(GEMINI_API_KEY)\n",
    "\n",
    "g_response = g_handler.prompt_image(model_name = \"gemini-pro-vision\",\n",
    "                                  image_path = image_path,\n",
    "                                  prompt_1 = prompt_1,\n",
    "                                  prompt_2 = prompt_2)\n",
    "print(g_response.text)"
   ]
  },
  {
   "cell_type": "code",
   "execution_count": null,
   "metadata": {},
   "outputs": [],
   "source": []
  },
  {
   "cell_type": "code",
   "execution_count": null,
   "metadata": {},
   "outputs": [],
   "source": []
  },
  {
   "cell_type": "markdown",
   "metadata": {},
   "source": [
    "\n",
    "Process Flow\n",
    "0) customer request \n",
    "-  \n",
    "\n",
    "1) Flight booking\n",
    "- SABRE \n",
    "- This must be determined first, \n",
    "\n",
    "\n",
    "2) Hotel: B2B platforms: \n",
    "- WithinEarth\n",
    "- TBO\n",
    "- RAtehawk \n",
    "- booking.com \n",
    "\n",
    "\n",
    "tour package\n",
    "- DMC partner lag (24 - 48hours) \n",
    "\n",
    "DMC partners need to be filtered, \n",
    "\n",
    "proposal:  0.5 days, finalis, another half of the day - hanis will compile\n",
    "- check flight first, ticketing then hotel. \n",
    "STANDARD: 24-48 hours within proposal to get invoice. \n",
    "\n",
    "proposals usually take 24 hours, \n",
    "\n",
    "invoice, confirmed, wit client then draft of the invoice, --> to finance, and client. \n",
    "- depends on payment terms, if they have add on services, then invoice will be sent after trip. \n",
    "- mostly high profile boss, but no penalty. penalty 1.2% ---> 15% pay upfreont, another 10% credit term, 5% deposit, 75% the rest after \n",
    "\n",
    "\n",
    "\n",
    "mostly the same for umrah. "
   ]
  },
  {
   "cell_type": "code",
   "execution_count": null,
   "metadata": {},
   "outputs": [],
   "source": []
  },
  {
   "cell_type": "markdown",
   "metadata": {},
   "source": []
  }
 ],
 "metadata": {
  "kernelspec": {
   "display_name": ".venv",
   "language": "python",
   "name": "python3"
  },
  "language_info": {
   "codemirror_mode": {
    "name": "ipython",
    "version": 3
   },
   "file_extension": ".py",
   "mimetype": "text/x-python",
   "name": "python",
   "nbconvert_exporter": "python",
   "pygments_lexer": "ipython3",
   "version": "3.12.2"
  }
 },
 "nbformat": 4,
 "nbformat_minor": 2
}
