{
 "cells": [
  {
   "cell_type": "markdown",
   "metadata": {},
   "source": [
    "## Initialise RAG"
   ]
  },
  {
   "cell_type": "code",
   "execution_count": 6,
   "metadata": {},
   "outputs": [
    {
     "name": "stdout",
     "output_type": "stream",
     "text": [
      "loading specialist: TRAVELLER ...\n",
      "TRAVELLER embedding: TEST - CLIENT - LOADED\n",
      "TRAVELLER embedding: TEST - CLIENT REQUEST - LOADED\n",
      "TRAVELLER embedding: TEST - FLIGHTS - LOADED\n",
      "TRAVELLER embedding: TEST - ACCOMODATIONS - LOADED\n",
      "TRAVELLER embedding: TEST - ACTIVITIES - LOADED\n",
      "TRAVELLER embedding: TEST - SERVICES - LOADED\n",
      "TRAVELLER loaded\n"
     ]
    }
   ],
   "source": [
    "\n",
    "from RAG.librarian import Librarian \n",
    "\n",
    "librarian = Librarian(librarian_LLM_model = \"GEMINI\")\n",
    "\n",
    "# SELECT SPECIALIST DATABASE\n",
    "librarian.select_specialist(specialist = \"traveller\", specialist_LLM_model = \"GEMINI\", )\n",
    "\n",
    "# Ask librarian to get acquinted with the specialist database\n",
    "librarian.Traveller.load_data_model(reembed = False,\n",
    "                                    embed_id = 0,\n",
    "                                    data_model_keys = {\"TEST - CLIENT\":\"CLIENT ID\",\n",
    "                                                        \"TEST - CLIENT REQUEST\":\"CLIENT ID\",\n",
    "                                                        \"TEST - FLIGHTS\":\"FLIGHT ID\",\n",
    "                                                        \"TEST - ACCOMODATIONS\":\"ACCOMODATION ID\",\n",
    "                                                        \"TEST - ACTIVITIES\":\"ACTIVITY ID\",\n",
    "                                                        \"TEST - SERVICES\":\"SERVICE ID\",\n",
    "                                                        },\n",
    "                                    reembed_table = {\"TEST - CLIENT\":True,\n",
    "                                                    \"TEST - CLIENT REQUEST\":True,\n",
    "                                                    \"TEST - FLIGHTS\":True,\n",
    "                                                    \"TEST - ACCOMODATIONS\":True,\n",
    "                                                    \"TEST - ACTIVITIES\":True,\n",
    "                                                    \"TEST - SERVICES\":True,\n",
    "                                                    }\n",
    "                                                    \n",
    "                                    )\n"
   ]
  },
  {
   "cell_type": "markdown",
   "metadata": {},
   "source": [
    "## _*Generate*_ : travel package from customer/agent prompt  + inventory"
   ]
  },
  {
   "cell_type": "code",
   "execution_count": 7,
   "metadata": {},
   "outputs": [
    {
     "name": "stdout",
     "output_type": "stream",
     "text": [
      "Token size of the prompt for cl100k_base ~ 3462\n",
      "**Summary**\n",
      "\n",
      "Immerse yourself in the vibrant culture and captivating landscapes of Bali on this unforgettable 4-day adventure. Discover the hidden gems of Nusa Penida with a thrilling hiking and cliff exploration tour, tantalize your taste buds with authentic Indonesian cuisine, and indulge in a rejuvenating spa experience. Immerse yourself in Balinese traditions at the enchanting Uluwatu Temple, and witness a captivating Kecak dance performance while savoring a delectable seafood feast. Escape to the tranquil rice fields of Ubud, where you can connect with nature and embrace the serenity of this spiritual sanctuary.\n",
      "\n",
      "**Journey Highlights**\n",
      "\n",
      "* Explore the breathtaking cliffs and hidden beaches of Nusa Penida\n",
      "* Rejuvenate with a luxurious spa treatment and unwind with a romantic seafood dinner\n",
      "* Immerse yourself in the vibrant culture and traditional dance performance at Uluwatu Temple\n",
      "* Trek through the lush rice fields of Ubud and discover the island's spiritual essence\n",
      "* Your journey takes you to: Bali - Nusa Penida - Ubud\n",
      "\n",
      "**Itinerary**\n",
      "\n",
      "**Day 1**\n",
      "\n",
      "* 1200hrs: Arrive at Denpasar Bali Airport (DPS) and transfer to your hotel in Nusa Penida (FLIGHT ID: 1).\n",
      "* 1500hrs: Check in at Grand Hyatt Bali (ACCOMODATION ID: 2) and settle into your luxurious accommodation.\n",
      "* 1800hrs: Embark on a guided hiking and cliff exploration tour of Nusa Penida (ACTIVITY ID: 4).\n",
      "* 2000hrs: Enjoy a delightful dinner at a local restaurant, savoring the authentic flavors of Indonesian cuisine (ACTIVITY ID: 3).\n",
      "\n",
      "**Day 2**\n",
      "\n",
      "* 0900hrs: Indulge in a rejuvenating spa treatment at one of Nusa Dua's renowned spas (ACTIVITY ID: 1).\n",
      "* 1200hrs: Check out of Grand Hyatt Bali (ACCOMODATION ID: 2) and transfer to Uluwatu Temple.\n",
      "* 1400hrs: Explore the sacred Uluwatu Temple, marveling at its stunning architecture and cultural significance.\n",
      "* 1700hrs: Witness a captivating Kecak dance performance while savoring a delectable seafood feast (ACTIVITY ID: 2).\n",
      "\n",
      "**Day 3**\n",
      "\n",
      "* 0800hrs: Check out of your hotel in Uluwatu and transfer to Ubud.\n",
      "* 1100hrs: Check in at Sanctoo Suites & Villas (ACCOMODATION ID: 3) and experience its luxurious ambiance.\n",
      "* 1400hrs: Embark on a group tour of Ubud's rice fields (ACTIVITY ID: 6).\n",
      "* 1800hrs: Immerse yourself in the local culture at a traditional Balinese dance performance.\n",
      "\n",
      "**Day 4**\n",
      "\n",
      "* 1000hrs: Check out of Sanctoo Suites & Villas (ACCOMODATION ID: 3).\n",
      "* 1200hrs: Depart from Denpasar Bali Airport (DPS) (FLIGHT ID: 19).\n",
      "\n",
      "**Inclusions**\n",
      "\n",
      "* Round-trip flights from Kuala Lumpur to Denpasar Bali (FLIGHT ID: 1, FLIGHT ID: 19)\n",
      "* Accommodation for 3 nights at Grand Hyatt Bali (ACCOMODATION ID: 2) and Sanctoo Suites & Villas (ACCOMODATION ID: 3)\n",
      "* Guided hiking and cliff exploration tour of Nusa Penida (ACTIVITY ID: 4)\n",
      "* Spa treatment at Nusa Dua (ACTIVITY ID: 1)\n",
      "* Kecak dance performance and seafood dinner at Uluwatu Temple (ACTIVITY ID: 2)\n",
      "* Group tour of Ubud's rice fields (ACTIVITY ID: 6)\n",
      "* Transfer services between airport and hotels\n",
      "* Tour guide and translator services for selected activities (SERVICE ID: 1)\n",
      "* Travel insurance (SERVICE ID: 26)\n",
      "\n",
      "**Pricing**\n",
      "\n",
      "* Flights (FLIGHT ID: 1, FLIGHT ID: 19): $203 + $232 = $435\n",
      "* Accommodation (ACCOMODATION ID: 2, ACCOMODATION ID: 3): $1899 + $399 = $2298\n",
      "* Activities (ACTIVITY ID: 4, ACTIVITY ID: 1, ACTIVITY ID: 2, ACTIVITY ID: 6): $200 + $62 + $318 + $300 = $880\n",
      "* Services (SERVICE ID: 1, SERVICE ID: 26): $100 + $40 = $140\n",
      "\n",
      "**Total Cost: $3753**\n"
     ]
    }
   ],
   "source": [
    "# Ask Traveller to generate a travel package\n",
    "initial_query = \"I want to go Bali for 4 days for 2 pax. Budget: $2000. I want to chill at the beach but also have cultural emphasis\"\n",
    "\n",
    "convo_package = librarian.Traveller.III_generate_travel_package(initial_query = initial_query,\n",
    "                                                                 topN = 6, \n",
    "                                                                 model_name = \"gemini-pro\",\n",
    "                                                                 )"
   ]
  },
  {
   "cell_type": "markdown",
   "metadata": {},
   "source": [
    "## Regenerate : travel package from followup prompt + inventory"
   ]
  },
  {
   "cell_type": "code",
   "execution_count": 8,
   "metadata": {},
   "outputs": [
    {
     "name": "stdout",
     "output_type": "stream",
     "text": [
      "Token size of the prompt for cl100k_base ~ 3807\n",
      "**Revised Travel Package**\n",
      "\n",
      "Immerse yourself in the vibrant culture and breathtaking landscapes of Bali on this unforgettable 4-day adventure. Discover the hidden gems of Nusa Penida with a thrilling hiking and cliff exploration tour, tantalize your taste buds with authentic Indonesian cuisine, and indulge in a rejuvenating spa experience. Immerse yourself in Balinese traditions at the enchanting Uluwatu Temple, and witness a captivating Kecak dance performance while savoring a delectable seafood feast. Escape to the tranquil rice fields of Ubud, where you can connect with nature and embrace the serenity of this spiritual sanctuary.\n",
      "\n",
      "**Journey Highlights**\n",
      "\n",
      "* Explore the breathtaking cliffs and hidden beaches of Nusa Penida\n",
      "* Rejuvenate with a luxurious spa treatment and unwind with a romantic seafood dinner\n",
      "* Immerse yourself in the vibrant culture and traditional dance performance at Uluwatu Temple\n",
      "* Trek through the lush rice fields of Ubud and discover the island's spiritual essence\n",
      "* Your journey takes you to: Bali - Nusa Penida - Ubud\n",
      "\n",
      "**Itinerary**\n",
      "\n",
      "**Day 1**\n",
      "\n",
      "* 1200hrs: Arrive at Denpasar Bali Airport (DPS) and transfer to your hotel in Nusa Penida (FLIGHT ID: 1).\n",
      "* 1500hrs: Check in at Ramah Cottages (ACCOMODATION ID: 4) and settle into your comfortable accommodation.\n",
      "* 1800hrs: Embark on a guided hiking and cliff exploration tour of Nusa Penida (ACTIVITY ID: 4).\n",
      "* 2000hrs: Enjoy a delightful dinner at a local restaurant, savoring the authentic flavors of Indonesian cuisine (ACTIVITY ID: 3).\n",
      "\n",
      "**Day 2**\n",
      "\n",
      "* 0900hrs: Indulge in a rejuvenating spa treatment at one of Nusa Dua's renowned spas (ACTIVITY ID: 1).\n",
      "* 1200hrs: Check out of Ramah Cottages (ACCOMODATION ID: 4) and transfer to Uluwatu Temple.\n",
      "* 1400hrs: Explore the sacred Uluwatu Temple, marveling at its stunning architecture and cultural significance.\n",
      "* 1700hrs: Witness a captivating Kecak dance performance while savoring a delectable seafood feast (ACTIVITY ID: 2).\n",
      "\n",
      "**Day 3**\n",
      "\n",
      "* 0800hrs: Check out of your hotel in Uluwatu and transfer to Ubud.\n",
      "* 1100hrs: Check in at Alam Terrace Cottages (ACCOMODATION ID: 5) and experience its charming ambiance.\n",
      "* 1400hrs: Embark on a group tour of Ubud's rice fields (ACTIVITY ID: 6).\n",
      "* 1800hrs: Immerse yourself in the local culture at a traditional Balinese dance performance.\n",
      "\n",
      "**Day 4**\n",
      "\n",
      "* 1000hrs: Check out of Alam Terrace Cottages (ACCOMODATION ID: 5).\n",
      "* 1200hrs: Depart from Denpasar Bali Airport (DPS) (FLIGHT ID: 19).\n",
      "\n",
      "**Inclusions**\n",
      "\n",
      "* Round-trip flights from Kuala Lumpur to Denpasar Bali (FLIGHT ID: 1, FLIGHT ID: 19): $435\n",
      "* Accommodation for 3 nights at Ramah Cottages (ACCOMODATION ID: 4) and Alam Terrace Cottages (ACCOMODATION ID: 5): $589\n",
      "* Guided hiking and cliff exploration tour of Nusa Penida (ACTIVITY ID: 4): $200\n",
      "* Spa treatment at Nusa Dua (ACTIVITY ID: 1): $62\n",
      "* Kecak dance performance and seafood dinner at Uluwatu Temple (ACTIVITY ID: 2): $318\n",
      "* Group tour of Ubud's rice fields (ACTIVITY ID: 6): $300\n",
      "* Transfer services between airport and hotels\n",
      "* Tour guide and translator services for selected activities (SERVICE ID: 1): $100\n",
      "* Travel insurance (SERVICE ID: 26): $40\n",
      "\n",
      "**Pricing**\n",
      "\n",
      "* Flights (FLIGHT ID: 1, FLIGHT ID: 19): $435\n",
      "* Accommodation (ACCOMODATION ID: 4, ACCOMODATION ID: 5): $589\n",
      "* Activities (ACTIVITY ID: 4, ACTIVITY ID: 1, ACTIVITY ID: 2, ACTIVITY ID: 6): $880\n",
      "* Services (SERVICE ID: 1, SERVICE ID: 26): $140\n",
      "\n",
      "**Total Cost: $2044**\n"
     ]
    }
   ],
   "source": [
    "followup_query = \"can you give me a cheaper option that meets $3000\"\n",
    "\n",
    "convo_package = librarian.Traveller.III_generate_travel_package(initial_query = \"\",\n",
    "                                                                followup_query = followup_query,\n",
    "                                                                 topN = 6, \n",
    "                                                                 model_name = \"gemini-pro\",\n",
    "                                                                 )"
   ]
  },
  {
   "cell_type": "markdown",
   "metadata": {},
   "source": [
    "## OCR : extract text from image"
   ]
  },
  {
   "cell_type": "code",
   "execution_count": 1,
   "metadata": {},
   "outputs": [
    {
     "name": "stdout",
     "output_type": "stream",
     "text": [
      "Collecting Flask\n",
      "  Using cached flask-3.0.3-py3-none-any.whl.metadata (3.2 kB)\n",
      "Collecting Werkzeug>=3.0.0 (from Flask)\n",
      "  Using cached werkzeug-3.0.2-py3-none-any.whl.metadata (4.1 kB)\n",
      "Collecting Jinja2>=3.1.2 (from Flask)\n",
      "  Using cached Jinja2-3.1.3-py3-none-any.whl.metadata (3.3 kB)\n",
      "Collecting itsdangerous>=2.1.2 (from Flask)\n",
      "  Using cached itsdangerous-2.1.2-py3-none-any.whl.metadata (2.9 kB)\n",
      "Collecting click>=8.1.3 (from Flask)\n",
      "  Using cached click-8.1.7-py3-none-any.whl.metadata (3.0 kB)\n",
      "Collecting blinker>=1.6.2 (from Flask)\n",
      "  Using cached blinker-1.7.0-py3-none-any.whl.metadata (1.9 kB)\n",
      "Requirement already satisfied: colorama in c:\\pycharmprojects\\adam-main\\.venv\\lib\\site-packages (from click>=8.1.3->Flask) (0.4.6)\n",
      "Collecting MarkupSafe>=2.0 (from Jinja2>=3.1.2->Flask)\n",
      "  Using cached MarkupSafe-2.1.5-cp312-cp312-win_amd64.whl.metadata (3.1 kB)\n",
      "Using cached flask-3.0.3-py3-none-any.whl (101 kB)\n",
      "Using cached blinker-1.7.0-py3-none-any.whl (13 kB)\n",
      "Using cached click-8.1.7-py3-none-any.whl (97 kB)\n",
      "Using cached itsdangerous-2.1.2-py3-none-any.whl (15 kB)\n",
      "Using cached Jinja2-3.1.3-py3-none-any.whl (133 kB)\n",
      "Using cached werkzeug-3.0.2-py3-none-any.whl (226 kB)\n",
      "Using cached MarkupSafe-2.1.5-cp312-cp312-win_amd64.whl (17 kB)\n",
      "Installing collected packages: MarkupSafe, itsdangerous, click, blinker, Werkzeug, Jinja2, Flask\n",
      "Successfully installed Flask-3.0.3 Jinja2-3.1.3 MarkupSafe-2.1.5 Werkzeug-3.0.2 blinker-1.7.0 click-8.1.7 itsdangerous-2.1.2\n",
      "Note: you may need to restart the kernel to use updated packages.\n"
     ]
    }
   ],
   "source": [
    "pip install -U Flask"
   ]
  },
  {
   "cell_type": "code",
   "execution_count": 2,
   "metadata": {},
   "outputs": [
    {
     "name": "stdout",
     "output_type": "stream",
     "text": [
      "Collecting tiktoken\n",
      "  Using cached tiktoken-0.6.0-cp312-cp312-win_amd64.whl.metadata (6.8 kB)\n",
      "Collecting regex>=2022.1.18 (from tiktoken)\n",
      "  Using cached regex-2023.12.25-cp312-cp312-win_amd64.whl.metadata (41 kB)\n",
      "Requirement already satisfied: requests>=2.26.0 in c:\\pycharmprojects\\adam-main\\.venv\\lib\\site-packages (from tiktoken) (2.31.0)\n",
      "Requirement already satisfied: charset-normalizer<4,>=2 in c:\\pycharmprojects\\adam-main\\.venv\\lib\\site-packages (from requests>=2.26.0->tiktoken) (3.3.2)\n",
      "Requirement already satisfied: idna<4,>=2.5 in c:\\pycharmprojects\\adam-main\\.venv\\lib\\site-packages (from requests>=2.26.0->tiktoken) (3.6)\n",
      "Requirement already satisfied: urllib3<3,>=1.21.1 in c:\\pycharmprojects\\adam-main\\.venv\\lib\\site-packages (from requests>=2.26.0->tiktoken) (2.2.1)\n",
      "Requirement already satisfied: certifi>=2017.4.17 in c:\\pycharmprojects\\adam-main\\.venv\\lib\\site-packages (from requests>=2.26.0->tiktoken) (2024.2.2)\n",
      "Using cached tiktoken-0.6.0-cp312-cp312-win_amd64.whl (798 kB)\n",
      "Using cached regex-2023.12.25-cp312-cp312-win_amd64.whl (268 kB)\n",
      "Installing collected packages: regex, tiktoken\n",
      "Successfully installed regex-2023.12.25 tiktoken-0.6.0\n",
      "Note: you may need to restart the kernel to use updated packages.\n"
     ]
    }
   ],
   "source": [
    "pip install tiktoken"
   ]
  },
  {
   "cell_type": "markdown",
   "metadata": {},
   "source": [
    "### a) EasyOCR(image: jpg)"
   ]
  },
  {
   "cell_type": "code",
   "execution_count": 4,
   "metadata": {},
   "outputs": [
    {
     "name": "stderr",
     "output_type": "stream",
     "text": [
      "Neither CUDA nor MPS are available - defaulting to CPU. Note: This module is much faster with a GPU.\n"
     ]
    },
    {
     "name": "stdout",
     "output_type": "stream",
     "text": [
      "Extracted Text: exil Ieo @ su-nig {6v.m4 One- no } | 03 2114 5414 Ajeat 54nia Trave( \"V^+ I(tuc SMART Travel Agency :Sedunia Travel Services WeRLD Package Kuala Lumpur Tour Date 05 January 2024 Kuala Lumpur Tour No. of Pax 04 pax (02 adult & 02 child) Date 05 January 2024 11.OOAM 7 OOPM Full Day (8 Hours) Time Pick up Alila Hotel in Bangsar Wilayah Persekutuan Kuala Lumpur Location 58, Jalan Ang Seng, Brickfields, 50470 Kualo Lumpur, Drop off Alila Hotel in Bangsar Wilayah Persekutuan Kuala Lumpur Location 58, Jalan Ang Seng, Brickfields, 50470 Kuala Lumpur, Type of Mini Van Vehicle Tour Guide English Speaking Entrance Fee Not included Meals Adult (MYR 50.00) Child (MYR 25.00) etarian Meal for Indian family (MYR) MYR 550.00 (transport/tour) MYR 300 (Tour guide) MYR 300 (meals) MYR3OO Price (markup) Highlight Gaze at the beautiful city of Kuala Lumpur from the Observation Deck of the Petronas Twin Towers Climb Batu Caves to explore Southeast Asia'$ most visited Hindu Temple Capture your memories with your camera at all these major landmarks_ Shop in Central Market, one of the oldest markets in Kuala Lumpur Places To Petronas Twin Towers Visit Menara Kuala Lumpur Petaling Street (shopping) Istana Negara (the King' Palace) Old Train Station Negara (National Monument) Batu Cave Restaurant (Lunch and Dinner) Budget per pax: Adult (MYR 50.00) Child (MYR 25.00) \"Vegetarian Meal for Indian family = TOTAL 1,450.00 Price for 4 pax 04\" dc{ tvp Day Day \"Vege Tugu\n",
      "Average Probability: 0.7584124356817936\n"
     ]
    }
   ],
   "source": [
    "import easyocr\n",
    "\n",
    "def extract_text_from_image(image_file):\n",
    "  \"\"\"\n",
    "  Extracts text and calculates average probability from an image using EasyOCR.\n",
    "\n",
    "  Args:\n",
    "      image_file: Path to the image file.\n",
    "\n",
    "  Returns:\n",
    "      A tuple containing:\n",
    "          * Extracted text as a single string concatenated from all blocks.\n",
    "          * Raw output from EasyOCR (list of tuples with text, probability, and bounding box).\n",
    "          * Average probability of all text blocks.\n",
    "  \"\"\"\n",
    "\n",
    "  # Create a reader for the languages you want to support\n",
    "  reader = easyocr.Reader(['en'])\n",
    "\n",
    "  # Use the reader to read the text from the image\n",
    "  raw = reader.readtext(image_file)\n",
    "\n",
    "  # Extract text and probabilities\n",
    "  text = ' '.join([block[1] for block in raw])\n",
    "  probabilities = [block[2] for block in raw]\n",
    "\n",
    "  # Calculate average probability (handling potential division by zero)\n",
    "  average_probability = sum(probabilities) / len(probabilities) if probabilities else 0.0\n",
    "\n",
    "  return text, raw, average_probability\n",
    "\n",
    "# Example usage\n",
    "# image_file = './database/travel/Ingest/Cust_req_1.jpg'\n",
    "image_path = './database/travel/Ingest/TP_Cxxx_20240105_KL1.jpg'\n",
    "text, raw, avg_prob = extract_text_from_image(image_path)\n",
    "print(\"Extracted Text:\", text)\n",
    "# print(\"Raw Data:\", raw)\n",
    "print(\"Average Probability:\", avg_prob)\n"
   ]
  },
  {
   "cell_type": "code",
   "execution_count": 5,
   "metadata": {},
   "outputs": [
    {
     "data": {
      "text/plain": [
       "'exil Ieo @ su-nig {6v.m4 One- no } | 03 2114 5414 Ajeat 54nia Trave( \"V^+ I(tuc SMART Travel Agency :Sedunia Travel Services WeRLD Package Kuala Lumpur Tour Date 05 January 2024 Kuala Lumpur Tour No. of Pax 04 pax (02 adult & 02 child) Date 05 January 2024 11.OOAM 7 OOPM Full Day (8 Hours) Time Pick up Alila Hotel in Bangsar Wilayah Persekutuan Kuala Lumpur Location 58, Jalan Ang Seng, Brickfields, 50470 Kualo Lumpur, Drop off Alila Hotel in Bangsar Wilayah Persekutuan Kuala Lumpur Location 58, Jalan Ang Seng, Brickfields, 50470 Kuala Lumpur, Type of Mini Van Vehicle Tour Guide English Speaking Entrance Fee Not included Meals Adult (MYR 50.00) Child (MYR 25.00) etarian Meal for Indian family (MYR) MYR 550.00 (transport/tour) MYR 300 (Tour guide) MYR 300 (meals) MYR3OO Price (markup) Highlight Gaze at the beautiful city of Kuala Lumpur from the Observation Deck of the Petronas Twin Towers Climb Batu Caves to explore Southeast Asia\\'$ most visited Hindu Temple Capture your memories with your camera at all these major landmarks_ Shop in Central Market, one of the oldest markets in Kuala Lumpur Places To Petronas Twin Towers Visit Menara Kuala Lumpur Petaling Street (shopping) Istana Negara (the King\\' Palace) Old Train Station Negara (National Monument) Batu Cave Restaurant (Lunch and Dinner) Budget per pax: Adult (MYR 50.00) Child (MYR 25.00) \"Vegetarian Meal for Indian family = TOTAL 1,450.00 Price for 4 pax 04\" dc{ tvp Day Day \"Vege Tugu'"
      ]
     },
     "execution_count": 5,
     "metadata": {},
     "output_type": "execute_result"
    }
   ],
   "source": [
    "text"
   ]
  },
  {
   "cell_type": "markdown",
   "metadata": {},
   "source": [
    "### b) LLM(image: jpg)"
   ]
  },
  {
   "cell_type": "code",
   "execution_count": 7,
   "metadata": {},
   "outputs": [],
   "source": [
    "image_path = './database/travel/Ingest/TP_Cxxx_20240105_KL1.jpg'\n",
    "prompt_1 = \"\"\"The image is a travel itinerary that i want to digitise so that i can populate a database. \n",
    "Help analyse the content and reproduce it in a structured format such that it is easily extractable\n",
    "\"\"\"\n",
    "response = librarian.Traveller.model_specialist.prompt_image(image_path = image_path,\n",
    "                                                  prompt_1 = prompt_1,\n",
    "                                                  prompt_2 = None,\n",
    "                                                  model_name = \"gemini-pro-vision\",)"
   ]
  },
  {
   "cell_type": "code",
   "execution_count": 11,
   "metadata": {},
   "outputs": [
    {
     "name": "stdout",
     "output_type": "stream",
     "text": [
      " ```python\n",
      "{\n",
      "  \"travel_agency\": \"Sedunia Travel Services\",\n",
      "  \"package\": \"1 Day Kuala Lumpur Tour\",\n",
      "  \"date\": \"05 January 2024\",\n",
      "  \"no_of_pax\": 4,\n",
      "  \"children\": 2,\n",
      "  \"time\": \"11:00AM - 7:00PM\",\n",
      "  \"duration\": \"8 Hours\",\n",
      "  \"pick_up_location\": \"Alia Hotel in Bangsar\",\n",
      "  \"drop_off_location\": \"58, Jalan Ang Seng, Brickfields, 50470 Kuala Lumpur, Wilayah Persekutuan Kuala Lumpur\",\n",
      "  \"type_of_vehicle\": \"Mini Van\",\n",
      "  \"guide\": \"English Speaking\",\n",
      "  \"meals\": {\n",
      "    \"adult\": 50,\n",
      "    \"child\": 25,\n",
      "    \"vegetarian_meal_for_indian_family\": 30\n",
      "  },\n",
      "  \"entrance_fee\": {\n",
      "    \"adult\": 55,\n",
      "    \"child\": 30\n",
      "  },\n",
      "  \"transport_fee\": 30,\n",
      "  \"tour_guide_fee\": 300,\n",
      "  \"total_price\": 1450,\n",
      "  \"highlights\": [\n",
      "    \"Gaze at the beautiful city of Kuala Lumpur from the Observation Deck of the KLCC Twin Towers\",\n",
      "    \"Capture your memories with your camera at all thes most visited Hindu Temple in Central Market, one of the oldest markets in Kuala Lumpur\",\n",
      "    \"Shop in Central Market\",\n",
      "    \"Petronas Twin Towers\",\n",
      "    \"Menara Kuala Lumpur\",\n",
      "    \"Istana Negara (the King's Palace)\",\n",
      "    \"Old Town Station\",\n",
      "    \"Tugu Negara (National Monument)\",\n",
      "    \"Batu Caves\"\n",
      "  ],\n",
      "  \"places_to_visit\": [\n",
      "    \"Kuala Lumpur City Centre\",\n",
      "    \"Batu Caves\",\n",
      "    \"Central Market\",\n",
      "    \"Petronas Twin Towers\",\n",
      "    \"KLCC Park\"\n",
      "  ],\n",
      "  \"restaurant\": {\n",
      "    \"lunch\": {\n",
      "      \"adult\": 50,\n",
      "      \"child\": 25\n",
      "    },\n",
      "    \"dinner\": {\n",
      "      \"adult\": 50,\n",
      "      \"child\": 25\n",
      "    }\n",
      "  }\n",
      "}\n",
      "```\n"
     ]
    }
   ],
   "source": [
    "print(response.text)"
   ]
  },
  {
   "cell_type": "code",
   "execution_count": null,
   "metadata": {},
   "outputs": [],
   "source": []
  },
  {
   "cell_type": "markdown",
   "metadata": {},
   "source": [
    "### d) TELEGRAM BOT\n",
    "Run app_digitiser.py to start the telegram bot \n",
    "\n",
    "This requires \n",
    "\n",
    "python\n",
    "pip install python-telegram-bot"
   ]
  },
  {
   "cell_type": "markdown",
   "metadata": {},
   "source": []
  }
 ],
 "metadata": {
  "kernelspec": {
   "display_name": ".venv",
   "language": "python",
   "name": "python3"
  },
  "language_info": {
   "codemirror_mode": {
    "name": "ipython",
    "version": 3
   },
   "file_extension": ".py",
   "mimetype": "text/x-python",
   "name": "python",
   "nbconvert_exporter": "python",
   "pygments_lexer": "ipython3",
   "version": "3.12.2"
  }
 },
 "nbformat": 4,
 "nbformat_minor": 2
}
