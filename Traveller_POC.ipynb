{
 "cells": [
  {
   "cell_type": "markdown",
   "metadata": {},
   "source": [
    "## Initialise RAG"
   ]
  },
  {
   "cell_type": "code",
   "execution_count": 2,
   "metadata": {},
   "outputs": [
    {
     "name": "stdout",
     "output_type": "stream",
     "text": [
      "loading specialist: TRAVELLER ...\n",
      "TRAVELLER embedding: TEST - CLIENT - LOADED\n",
      "TRAVELLER embedding: TEST - CLIENT REQUEST - LOADED\n",
      "TRAVELLER embedding: TEST - FLIGHTS - LOADED\n",
      "TRAVELLER embedding: TEST - ACCOMODATIONS - LOADED\n",
      "TRAVELLER embedding: TEST - ACTIVITIES - LOADED\n",
      "TRAVELLER embedding: TEST - SERVICES - LOADED\n",
      "TRAVELLER loaded\n"
     ]
    }
   ],
   "source": [
    "\n",
    "from RAG.librarian import Librarian \n",
    "\n",
    "librarian = Librarian(librarian_LLM_model = \"GEMINI\")\n",
    "\n",
    "# SELECT SPECIALIST DATABASE\n",
    "librarian.select_specialist(specialist = \"traveller\", specialist_LLM_model = \"GEMINI\", )\n",
    "\n",
    "# Ask librarian to get acquinted with the specialist database\n",
    "librarian.Traveller.load_data_model(reembed = False,\n",
    "                                    embed_id = 0,\n",
    "                                    data_model_keys = {\"TEST - CLIENT\":\"CLIENT ID\",\n",
    "                                                        \"TEST - CLIENT REQUEST\":\"CLIENT ID\",\n",
    "                                                        \"TEST - FLIGHTS\":\"FLIGHT ID\",\n",
    "                                                        \"TEST - ACCOMODATIONS\":\"ACCOMODATION ID\",\n",
    "                                                        \"TEST - ACTIVITIES\":\"ACTIVITY ID\",\n",
    "                                                        \"TEST - SERVICES\":\"SERVICE ID\",\n",
    "                                                        },\n",
    "                                    reembed_table = {\"TEST - CLIENT\":True,\n",
    "                                                    \"TEST - CLIENT REQUEST\":True,\n",
    "                                                    \"TEST - FLIGHTS\":True,\n",
    "                                                    \"TEST - ACCOMODATIONS\":True,\n",
    "                                                    \"TEST - ACTIVITIES\":True,\n",
    "                                                    \"TEST - SERVICES\":True,\n",
    "                                                    }\n",
    "                                                    \n",
    "                                    )\n"
   ]
  },
  {
   "cell_type": "markdown",
   "metadata": {},
   "source": [
    "## _*Generate*_ : travel package from customer/agent prompt  + inventory"
   ]
  },
  {
   "cell_type": "code",
   "execution_count": 7,
   "metadata": {},
   "outputs": [
    {
     "name": "stdout",
     "output_type": "stream",
     "text": [
      "Token size of the prompt for cl100k_base ~ 3745\n",
      "**Summary**\n",
      "\n",
      "Immerse yourself in the beauty of Bali on this 4-day beach getaway designed to soothe your soul and rejuvenate your senses. Dive into the pristine waters, bask in the warm sun, indulge in luxurious spa treatments, and explore the island's stunning natural wonders. This trip_recommendation offers a perfect blend of relaxation, adventure, and cultural experiences, ensuring an unforgettable escape to paradise.\n",
      "\n",
      "**Journey Highlights**\n",
      "\n",
      "* Chill out on the white-sand beaches of Bali\n",
      "* Pamper yourself with a rejuvenating spa treatment\n",
      "* Embark on a scenic hiking and cliff-hunting tour\n",
      "* Savor delicious meals at local restaurants\n",
      "* Capture the beauty of Bali's rice fields\n",
      "* Your journey takes you to: Kuala Lumpur - Denpasar Bali - Kuala Lumpur\n",
      "\n",
      "**Itinerary**\n",
      "\n",
      "**Day 1**\n",
      "\n",
      "* 0900hrs: Depart from Kuala Lumpur International Airport (FLIGHT ID: 1)\n",
      "* 1100hrs: Arrive at Denpasar Bali Airport (DPS)\n",
      "* 1200hrs: Transfer to Hard Rock Hotel Bali (ACCOMODATION ID: 4)\n",
      "* 1400hrs: Check in and relax at the hotel\n",
      "* 1600hrs: Spend the afternoon at Kuta Beach, enjoying the sun and sand\n",
      "* 1900hrs: Dinner at Jimbaran Bay (SERVICE ID: 2)\n",
      "\n",
      "**Day 2**\n",
      "\n",
      "* 0800hrs: Breakfast at the hotel\n",
      "* 0900hrs: Embark on a Bali Beach and scenic cliff hunting tour (ACTIVITY ID: 5)\n",
      "* 1500hrs: Lunch at a local restaurant\n",
      "* 1700hrs: Return to the hotel and relax\n",
      "* 1900hrs: Dinner at the hotel restaurant\n",
      "\n",
      "**Day 3**\n",
      "\n",
      "* 0800hrs: Breakfast at the hotel\n",
      "* 0900hrs: Visit Ubud rice fields group tours and activities (ACTIVITY ID: 6)\n",
      "* 1200hrs: Lunch at a local restaurant\n",
      "* 1400hrs: Enjoy a rejuvenating spa treatment at a local spa (ACTIVITY ID: 1)\n",
      "* 1900hrs: Farewell dinner at a traditional Balinese restaurant\n",
      "\n",
      "**Day 4**\n",
      "\n",
      "* 0800hrs: Breakfast at the hotel\n",
      "* 1000hrs: Check out of the hotel and depart for Denpasar Bali Airport (DPS)\n",
      "* 1200hrs: Depart for Kuala Lumpur International Airport (FLIGHT ID: 19)\n",
      "\n",
      "**Highlights and Inclusions**\n",
      "\n",
      "* Round-trip flights from Kuala Lumpur to Bali\n",
      "* 3 nights' accommodation at Hard Rock Hotel Bali\n",
      "* Breakfast daily\n",
      "* Bali Beach and scenic cliff hunting tour\n",
      "* Ubud rice fields group tours and activities\n",
      "* Spa treatment\n",
      "* Airport transfers\n",
      "* Services of a local tour guide and translator\n",
      "* Fairprice Travel Insurance (SERVICE ID: 35)\n",
      "\n",
      "**Pricing**\n",
      "\n",
      "* Flights (FLIGHT ID: 1, 19): $257 x 2 = $514\n",
      "* Accommodation (ACCOMODATION ID: 4): $400 x 3 = $1200\n",
      "* Bali Beach and scenic cliff hunting tour (ACTIVITY ID: 5): $4500 x 2 = $9000\n",
      "* Ubud rice fields group tours and activities (ACTIVITY ID: 6): $300 x 2 = $600\n",
      "* Spa treatment (ACTIVITY ID: 1): $62 x 2 = $124\n",
      "* Airport transfers (SERVICE ID: 2): $400 x 2 = $800\n",
      "* Tour guide and translator (SERVICE ID: 1): $100 x 3 = $300\n",
      "* Fairprice Travel Insurance (SERVICE ID: 35): $50 x 2 = $100\n",
      "\n",
      "**Total Cost: $12,988**\n"
     ]
    }
   ],
   "source": [
    "# Ask Traveller to generate a travel package\n",
    "initial_query = \"Hafeez from Kuala Lumpur wants to go Bali for 4 days for 2 pax. Budget: $2000. I want to chill at the beach\"\n",
    "\n",
    "convo_package = librarian.Traveller.III_generate_travel_package(initial_query = initial_query,\n",
    "                                                                 topN = 6, \n",
    "                                                                 model_name = \"gemini-pro\",\n",
    "                                                                 )"
   ]
  },
  {
   "cell_type": "markdown",
   "metadata": {},
   "source": [
    "## Regenerate : travel package from followup prompt + inventory"
   ]
  },
  {
   "cell_type": "code",
   "execution_count": 10,
   "metadata": {},
   "outputs": [
    {
     "name": "stdout",
     "output_type": "stream",
     "text": [
      "Token size of the prompt for cl100k_base ~ 3857\n",
      "**Refined Travel Package**\n",
      "\n",
      "**Summary**\n",
      "\n",
      "Immerse yourself in the beauty of Bali on this tailored 4-day beach getaway designed to soothe your soul and rejuvenate your senses. Dive into the pristine waters, bask in the warm sun, indulge in luxurious spa treatments, and explore the island's stunning natural wonders. This trip offers a perfect blend of relaxation, adventure, and cultural experiences, ensuring an unforgettable escape to paradise.\n",
      "\n",
      "**Journey Highlights**\n",
      "\n",
      "* Chill out on the white-sand beaches of Bali\n",
      "* Pamper yourself with a rejuvenating spa treatment\n",
      "* Embark on a scenic hiking and cliff-hunting tour\n",
      "* Savor delicious meals at local restaurants\n",
      "* Capture the beauty of Bali's rice fields\n",
      "* Your journey takes you to: Kuala Lumpur - Denpasar Bali - Kuala Lumpur\n",
      "\n",
      "**Itinerary**\n",
      "\n",
      "**Day 1**\n",
      "\n",
      "* 0900hrs: Depart from Kuala Lumpur International Airport (FLIGHT ID: 1)\n",
      "* 1100hrs: Arrive at Denpasar Bali Airport (DPS)\n",
      "* 1200hrs: Transfer to Hard Rock Hotel Bali (ACCOMODATION ID: 4)\n",
      "* 1400hrs: Check in and relax at the hotel\n",
      "* 1600hrs: Spend the afternoon at Kuta Beach, enjoying the sun and sand\n",
      "* 1900hrs: Dinner at Jimbaran Bay (SERVICE ID: 2)\n",
      "\n",
      "**Day 2**\n",
      "\n",
      "* 0800hrs: Breakfast at the hotel\n",
      "* 0900hrs: Embark on a Bali Beach and cliff hiking tour (ACTIVITY ID: 5)\n",
      "* 1500hrs: Lunch at a local restaurant\n",
      "* 1700hrs: Return to the hotel and relax\n",
      "* 1900hrs: Dinner at the hotel restaurant\n",
      "\n",
      "**Day 3**\n",
      "\n",
      "* 0800hrs: Breakfast at the hotel\n",
      "* 0900hrs: Visit Ubud rice fields group tours and activities (ACTIVITY ID: 6)\n",
      "* 1200hrs: Lunch at a local restaurant\n",
      "* 1400hrs: Enjoy a rejuvenating spa treatment at a local spa (ACTIVITY ID: 1)\n",
      "* 1900hrs: Farewell dinner at a traditional Balinese restaurant\n",
      "\n",
      "**Day 4**\n",
      "\n",
      "* 0800hrs: Breakfast at the hotel\n",
      "* 1000hrs: Check out of the hotel and depart for Denpasar Bali Airport (DPS)\n",
      "* 1200hrs: Depart for Kuala Lumpur International Airport (FLIGHT ID: 19)\n",
      "\n",
      "**Highlights and Inclusions**\n",
      "\n",
      "* Round-trip flights from Kuala Lumpur to Bali\n",
      "* 3 nights' accommodation at Hard Rock Hotel Bali\n",
      "* Breakfast daily\n",
      "* Bali Beach and cliff hiking tour (ACTIVITY ID: 5)\n",
      "* Ubud rice fields group tours and activities (ACTIVITY ID: 6)\n",
      "* Spa treatment (ACTIVITY ID: 1)\n",
      "* Airport transfers\n",
      "\n",
      "**Pricing**\n",
      "\n",
      "* Flights (FLIGHT ID: 1, 19): $257 x 2 = $514\n",
      "* Accommodation (ACCOMODATION ID: 4): $400 x 3 = $1200\n",
      "* Bali Beach and cliff hiking tour (ACTIVITY ID: 5): $4500 x 2 = $9000\n",
      "* Ubud rice fields group tours and activities (ACTIVITY ID: 6): $300 x 2 = $600\n",
      "* Spa treatment (ACTIVITY ID: 1): $62 x 2 = $124\n",
      "* Airport transfers (SERVICE ID: 2): $400 x 2 = $800\n",
      "\n",
      "**Total Cost: $11,638**\n",
      "**Revised Pricing:**\n",
      "* Flights (FLIGHT ID: 1, 19): $257 x 2 = $514\n",
      "* Accommodation (ACCOMODATION ID: 4): $400 x 3 = $1200\n",
      "* Bali Beach and cliff hiking tour (ACTIVITY ID: 4): $200 x 2 = $400\n",
      "* Ubud rice fields group tours and activities (ACTIVITY ID: 6): $300 x 2 = $600\n",
      "* Spa treatment (ACTIVITY ID: 1): $62 x 2 = $124\n",
      "* Airport transfers (SERVICE ID: 2): $400 x 2 = $800\n",
      "**Revised Total Cost: $3038**\n"
     ]
    }
   ],
   "source": [
    "followup_query = \"Give me the cheapest bali activities instead of that 4.5K hunting tour\"\n",
    "\n",
    "convo_package = librarian.Traveller.III_generate_travel_package(initial_query = \"\",\n",
    "                                                                followup_query = followup_query,\n",
    "                                                                 topN = 6, \n",
    "                                                                 model_name = \"gemini-pro\",\n",
    "                                                                 )"
   ]
  },
  {
   "cell_type": "markdown",
   "metadata": {},
   "source": [
    "## OCR : extract text from image"
   ]
  },
  {
   "cell_type": "markdown",
   "metadata": {},
   "source": [
    "### a) EasyOCR(image: jpg)"
   ]
  },
  {
   "cell_type": "code",
   "execution_count": 4,
   "metadata": {},
   "outputs": [
    {
     "name": "stderr",
     "output_type": "stream",
     "text": [
      "Neither CUDA nor MPS are available - defaulting to CPU. Note: This module is much faster with a GPU.\n"
     ]
    },
    {
     "name": "stdout",
     "output_type": "stream",
     "text": [
      "Extracted Text: exil Ieo @ su-nig {6v.m4 One- no } | 03 2114 5414 Ajeat 54nia Trave( \"V^+ I(tuc SMART Travel Agency :Sedunia Travel Services WeRLD Package Kuala Lumpur Tour Date 05 January 2024 Kuala Lumpur Tour No. of Pax 04 pax (02 adult & 02 child) Date 05 January 2024 11.OOAM 7 OOPM Full Day (8 Hours) Time Pick up Alila Hotel in Bangsar Wilayah Persekutuan Kuala Lumpur Location 58, Jalan Ang Seng, Brickfields, 50470 Kualo Lumpur, Drop off Alila Hotel in Bangsar Wilayah Persekutuan Kuala Lumpur Location 58, Jalan Ang Seng, Brickfields, 50470 Kuala Lumpur, Type of Mini Van Vehicle Tour Guide English Speaking Entrance Fee Not included Meals Adult (MYR 50.00) Child (MYR 25.00) etarian Meal for Indian family (MYR) MYR 550.00 (transport/tour) MYR 300 (Tour guide) MYR 300 (meals) MYR3OO Price (markup) Highlight Gaze at the beautiful city of Kuala Lumpur from the Observation Deck of the Petronas Twin Towers Climb Batu Caves to explore Southeast Asia'$ most visited Hindu Temple Capture your memories with your camera at all these major landmarks_ Shop in Central Market, one of the oldest markets in Kuala Lumpur Places To Petronas Twin Towers Visit Menara Kuala Lumpur Petaling Street (shopping) Istana Negara (the King' Palace) Old Train Station Negara (National Monument) Batu Cave Restaurant (Lunch and Dinner) Budget per pax: Adult (MYR 50.00) Child (MYR 25.00) \"Vegetarian Meal for Indian family = TOTAL 1,450.00 Price for 4 pax 04\" dc{ tvp Day Day \"Vege Tugu\n",
      "Average Probability: 0.7584124356817936\n"
     ]
    }
   ],
   "source": [
    "import easyocr\n",
    "\n",
    "def extract_text_from_image(image_file):\n",
    "  \"\"\"\n",
    "  Extracts text and calculates average probability from an image using EasyOCR.\n",
    "\n",
    "  Args:\n",
    "      image_file: Path to the image file.\n",
    "\n",
    "  Returns:\n",
    "      A tuple containing:\n",
    "          * Extracted text as a single string concatenated from all blocks.\n",
    "          * Raw output from EasyOCR (list of tuples with text, probability, and bounding box).\n",
    "          * Average probability of all text blocks.\n",
    "  \"\"\"\n",
    "\n",
    "  # Create a reader for the languages you want to support\n",
    "  reader = easyocr.Reader(['en'])\n",
    "\n",
    "  # Use the reader to read the text from the image\n",
    "  raw = reader.readtext(image_file)\n",
    "\n",
    "  # Extract text and probabilities\n",
    "  text = ' '.join([block[1] for block in raw])\n",
    "  probabilities = [block[2] for block in raw]\n",
    "\n",
    "  # Calculate average probability (handling potential division by zero)\n",
    "  average_probability = sum(probabilities) / len(probabilities) if probabilities else 0.0\n",
    "\n",
    "  return text, raw, average_probability\n",
    "\n",
    "# Example usage\n",
    "# image_file = './database/travel/Ingest/Cust_req_1.jpg'\n",
    "image_path = './database/travel/Ingest/TP_Cxxx_20240105_KL1.jpg'\n",
    "text, raw, avg_prob = extract_text_from_image(image_path)\n",
    "print(\"Extracted Text:\", text)\n",
    "# print(\"Raw Data:\", raw)\n",
    "print(\"Average Probability:\", avg_prob)\n"
   ]
  },
  {
   "cell_type": "code",
   "execution_count": 5,
   "metadata": {},
   "outputs": [
    {
     "data": {
      "text/plain": [
       "'exil Ieo @ su-nig {6v.m4 One- no } | 03 2114 5414 Ajeat 54nia Trave( \"V^+ I(tuc SMART Travel Agency :Sedunia Travel Services WeRLD Package Kuala Lumpur Tour Date 05 January 2024 Kuala Lumpur Tour No. of Pax 04 pax (02 adult & 02 child) Date 05 January 2024 11.OOAM 7 OOPM Full Day (8 Hours) Time Pick up Alila Hotel in Bangsar Wilayah Persekutuan Kuala Lumpur Location 58, Jalan Ang Seng, Brickfields, 50470 Kualo Lumpur, Drop off Alila Hotel in Bangsar Wilayah Persekutuan Kuala Lumpur Location 58, Jalan Ang Seng, Brickfields, 50470 Kuala Lumpur, Type of Mini Van Vehicle Tour Guide English Speaking Entrance Fee Not included Meals Adult (MYR 50.00) Child (MYR 25.00) etarian Meal for Indian family (MYR) MYR 550.00 (transport/tour) MYR 300 (Tour guide) MYR 300 (meals) MYR3OO Price (markup) Highlight Gaze at the beautiful city of Kuala Lumpur from the Observation Deck of the Petronas Twin Towers Climb Batu Caves to explore Southeast Asia\\'$ most visited Hindu Temple Capture your memories with your camera at all these major landmarks_ Shop in Central Market, one of the oldest markets in Kuala Lumpur Places To Petronas Twin Towers Visit Menara Kuala Lumpur Petaling Street (shopping) Istana Negara (the King\\' Palace) Old Train Station Negara (National Monument) Batu Cave Restaurant (Lunch and Dinner) Budget per pax: Adult (MYR 50.00) Child (MYR 25.00) \"Vegetarian Meal for Indian family = TOTAL 1,450.00 Price for 4 pax 04\" dc{ tvp Day Day \"Vege Tugu'"
      ]
     },
     "execution_count": 5,
     "metadata": {},
     "output_type": "execute_result"
    }
   ],
   "source": [
    "text"
   ]
  },
  {
   "cell_type": "markdown",
   "metadata": {},
   "source": [
    "### b) LLM(image: jpg)"
   ]
  },
  {
   "cell_type": "code",
   "execution_count": 7,
   "metadata": {},
   "outputs": [],
   "source": [
    "image_path = './database/travel/Ingest/TP_Cxxx_20240105_KL1.jpg'\n",
    "prompt_1 = \"\"\"The image is a travel itinerary that i want to digitise so that i can populate a database. \n",
    "Help analyse the content and reproduce it in a structured format such that it is easily extractable\n",
    "\"\"\"\n",
    "response = librarian.Traveller.model_specialist.prompt_image(image_path = image_path,\n",
    "                                                  prompt_1 = prompt_1,\n",
    "                                                  prompt_2 = None,\n",
    "                                                  model_name = \"gemini-pro-vision\",)"
   ]
  },
  {
   "cell_type": "code",
   "execution_count": 11,
   "metadata": {},
   "outputs": [
    {
     "name": "stdout",
     "output_type": "stream",
     "text": [
      " ```python\n",
      "{\n",
      "  \"travel_agency\": \"Sedunia Travel Services\",\n",
      "  \"package\": \"1 Day Kuala Lumpur Tour\",\n",
      "  \"date\": \"05 January 2024\",\n",
      "  \"no_of_pax\": 4,\n",
      "  \"children\": 2,\n",
      "  \"time\": \"11:00AM - 7:00PM\",\n",
      "  \"duration\": \"8 Hours\",\n",
      "  \"pick_up_location\": \"Alia Hotel in Bangsar\",\n",
      "  \"drop_off_location\": \"58, Jalan Ang Seng, Brickfields, 50470 Kuala Lumpur, Wilayah Persekutuan Kuala Lumpur\",\n",
      "  \"type_of_vehicle\": \"Mini Van\",\n",
      "  \"guide\": \"English Speaking\",\n",
      "  \"meals\": {\n",
      "    \"adult\": 50,\n",
      "    \"child\": 25,\n",
      "    \"vegetarian_meal_for_indian_family\": 30\n",
      "  },\n",
      "  \"entrance_fee\": {\n",
      "    \"adult\": 55,\n",
      "    \"child\": 30\n",
      "  },\n",
      "  \"transport_fee\": 30,\n",
      "  \"tour_guide_fee\": 300,\n",
      "  \"total_price\": 1450,\n",
      "  \"highlights\": [\n",
      "    \"Gaze at the beautiful city of Kuala Lumpur from the Observation Deck of the KLCC Twin Towers\",\n",
      "    \"Capture your memories with your camera at all thes most visited Hindu Temple in Central Market, one of the oldest markets in Kuala Lumpur\",\n",
      "    \"Shop in Central Market\",\n",
      "    \"Petronas Twin Towers\",\n",
      "    \"Menara Kuala Lumpur\",\n",
      "    \"Istana Negara (the King's Palace)\",\n",
      "    \"Old Town Station\",\n",
      "    \"Tugu Negara (National Monument)\",\n",
      "    \"Batu Caves\"\n",
      "  ],\n",
      "  \"places_to_visit\": [\n",
      "    \"Kuala Lumpur City Centre\",\n",
      "    \"Batu Caves\",\n",
      "    \"Central Market\",\n",
      "    \"Petronas Twin Towers\",\n",
      "    \"KLCC Park\"\n",
      "  ],\n",
      "  \"restaurant\": {\n",
      "    \"lunch\": {\n",
      "      \"adult\": 50,\n",
      "      \"child\": 25\n",
      "    },\n",
      "    \"dinner\": {\n",
      "      \"adult\": 50,\n",
      "      \"child\": 25\n",
      "    }\n",
      "  }\n",
      "}\n",
      "```\n"
     ]
    }
   ],
   "source": [
    "print(response.text)"
   ]
  },
  {
   "cell_type": "code",
   "execution_count": null,
   "metadata": {},
   "outputs": [],
   "source": []
  },
  {
   "cell_type": "markdown",
   "metadata": {},
   "source": [
    "### d) TELEGRAM BOT\n",
    "Run app_digitiser.py to start the telegram bot \n",
    "\n",
    "This requires \n",
    "\n",
    "python\n",
    "pip install python-telegram-bot"
   ]
  },
  {
   "cell_type": "markdown",
   "metadata": {},
   "source": []
  }
 ],
 "metadata": {
  "kernelspec": {
   "display_name": ".venv",
   "language": "python",
   "name": "python3"
  },
  "language_info": {
   "codemirror_mode": {
    "name": "ipython",
    "version": 3
   },
   "file_extension": ".py",
   "mimetype": "text/x-python",
   "name": "python",
   "nbconvert_exporter": "python",
   "pygments_lexer": "ipython3",
   "version": "3.12.2"
  }
 },
 "nbformat": 4,
 "nbformat_minor": 2
}
